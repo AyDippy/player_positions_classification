{
 "cells": [
  {
   "cell_type": "code",
   "execution_count": 2,
   "id": "7fdae3b7",
   "metadata": {},
   "outputs": [],
   "source": [
    "#Import preprocessing libraries\n",
    "import pandas as pd\n",
    "import numpy as np\n",
    "from sklearn.compose import ColumnTransformer\n",
    "from sklearn.pipeline import Pipeline\n",
    "from sklearn.preprocessing import StandardScaler, OneHotEncoder\n",
    "from imblearn.combine import SMOTETomek\n",
    "from sklearn.model_selection import train_test_split\n",
    "from sklearn.metrics import classification_report\n",
    "from imblearn.pipeline import Pipeline as ImblearnPipeline\n",
    "from sklearn.metrics import accuracy_score"
   ]
  },
  {
   "cell_type": "code",
   "execution_count": 3,
   "id": "93a5ba7c",
   "metadata": {},
   "outputs": [],
   "source": [
    "#Loading the datasets\n",
    "df = pd.read_csv('eda.csv')"
   ]
  },
  {
   "cell_type": "code",
   "execution_count": 4,
   "id": "8e3d1189",
   "metadata": {},
   "outputs": [],
   "source": [
    "#Dropping the potential column as a players potential cannot be known till he excels in a certain position as well as the interntional \n",
    "#reputation column as it should not be a determinant for a players best position\n",
    "df = df.drop(columns = ['Potential', 'International Reputation'])"
   ]
  },
  {
   "cell_type": "code",
   "execution_count": 5,
   "id": "fea6893e",
   "metadata": {},
   "outputs": [
    {
     "data": {
      "text/plain": [
       "0        4\n",
       "1        4\n",
       "2        4\n",
       "3        5\n",
       "4        4\n",
       "        ..\n",
       "18534    3\n",
       "18535    3\n",
       "18536    3\n",
       "18537    3\n",
       "18538    3\n",
       "Name: Weak Foot Rating, Length: 18539, dtype: int64"
      ]
     },
     "execution_count": 5,
     "metadata": {},
     "output_type": "execute_result"
    }
   ],
   "source": [
    "df['Weak Foot Rating']"
   ]
  },
  {
   "cell_type": "code",
   "execution_count": 6,
   "id": "2ae29fd3",
   "metadata": {},
   "outputs": [
    {
     "name": "stdout",
     "output_type": "stream",
     "text": [
      "<class 'pandas.core.frame.DataFrame'>\n",
      "RangeIndex: 18539 entries, 0 to 18538\n",
      "Data columns (total 33 columns):\n",
      " #   Column              Non-Null Count  Dtype \n",
      "---  ------              --------------  ----- \n",
      " 0   Overall             18539 non-null  int64 \n",
      " 1   Age                 18539 non-null  int64 \n",
      " 2   Height(in cm)       18539 non-null  int64 \n",
      " 3   Weight(in kg)       18539 non-null  int64 \n",
      " 4   Weak Foot Rating    18539 non-null  int64 \n",
      " 5   Skill Moves         18539 non-null  int64 \n",
      " 6   Pace Total          18539 non-null  int64 \n",
      " 7   Shooting Total      18539 non-null  int64 \n",
      " 8   Passing Total       18539 non-null  int64 \n",
      " 9   Dribbling Total     18539 non-null  int64 \n",
      " 10  Defending Total     18539 non-null  int64 \n",
      " 11  Physicality Total   18539 non-null  int64 \n",
      " 12  Crossing            18539 non-null  int64 \n",
      " 13  Finishing           18539 non-null  int64 \n",
      " 14  Heading Accuracy    18539 non-null  int64 \n",
      " 15  Short Passing       18539 non-null  int64 \n",
      " 16  Curve               18539 non-null  int64 \n",
      " 17  Acceleration        18539 non-null  int64 \n",
      " 18  Agility             18539 non-null  int64 \n",
      " 19  Reactions           18539 non-null  int64 \n",
      " 20  Balance             18539 non-null  int64 \n",
      " 21  Shot Power          18539 non-null  int64 \n",
      " 22  Jumping             18539 non-null  int64 \n",
      " 23  Stamina             18539 non-null  int64 \n",
      " 24  Strength            18539 non-null  int64 \n",
      " 25  Aggression          18539 non-null  int64 \n",
      " 26  Vision              18539 non-null  int64 \n",
      " 27  Penalties           18539 non-null  int64 \n",
      " 28  Composure           18539 non-null  int64 \n",
      " 29   GoalkeeperKicking  18539 non-null  int64 \n",
      " 30  Nationality         18539 non-null  object\n",
      " 31  Preferred Foot      18539 non-null  object\n",
      " 32  Best Position       18539 non-null  object\n",
      "dtypes: int64(30), object(3)\n",
      "memory usage: 4.7+ MB\n"
     ]
    }
   ],
   "source": [
    "#Info about datasets\n",
    "df.info()"
   ]
  },
  {
   "cell_type": "markdown",
   "id": "e1729d6e",
   "metadata": {},
   "source": [
    "## Preprocessing"
   ]
  },
  {
   "cell_type": "code",
   "execution_count": 7,
   "id": "e04a1cae",
   "metadata": {},
   "outputs": [],
   "source": [
    "#Copying my datsframe\n",
    "data =df.copy()"
   ]
  },
  {
   "cell_type": "code",
   "execution_count": 8,
   "id": "2a0bfeac",
   "metadata": {},
   "outputs": [
    {
     "data": {
      "text/plain": [
       "Index(['Overall', 'Age', 'Height(in cm)', 'Weight(in kg)', 'Weak Foot Rating',\n",
       "       'Skill Moves', 'Pace Total', 'Shooting Total', 'Passing Total',\n",
       "       'Dribbling Total', 'Defending Total', 'Physicality Total', 'Crossing',\n",
       "       'Finishing', 'Heading Accuracy', 'Short Passing', 'Curve',\n",
       "       'Acceleration', 'Agility', 'Reactions', 'Balance', 'Shot Power',\n",
       "       'Jumping', 'Stamina', 'Strength', 'Aggression', 'Vision', 'Penalties',\n",
       "       'Composure', ' GoalkeeperKicking', 'Nationality', 'Preferred Foot',\n",
       "       'Best Position'],\n",
       "      dtype='object')"
      ]
     },
     "execution_count": 8,
     "metadata": {},
     "output_type": "execute_result"
    }
   ],
   "source": [
    "#Splitting the features and target columns\n",
    "X = data.drop('Best Position', axis = 1)\n",
    "y = data['Best Position']\n",
    "data.columns"
   ]
  },
  {
   "cell_type": "code",
   "execution_count": 9,
   "id": "2032ccbe",
   "metadata": {},
   "outputs": [],
   "source": [
    "#Splitting numerical and categorical features\n",
    "num_features = ['Overall', 'Age', 'Height(in cm)', 'Weight(in kg)', 'Weak Foot Rating',\n",
    "       'Skill Moves', 'Pace Total', 'Shooting Total', 'Passing Total',\n",
    "       'Dribbling Total', 'Defending Total', 'Physicality Total', 'Crossing',\n",
    "       'Finishing', 'Heading Accuracy', 'Short Passing', 'Curve',\n",
    "       'Acceleration', 'Agility', 'Reactions', 'Balance', 'Shot Power',\n",
    "       'Jumping', 'Stamina', 'Strength', 'Aggression', 'Vision', 'Penalties',\n",
    "       'Composure', ' GoalkeeperKicking']\n",
    "cat_features  = ['Nationality', 'Preferred Foot']"
   ]
  },
  {
   "cell_type": "code",
   "execution_count": 10,
   "id": "3f0bbe4d",
   "metadata": {},
   "outputs": [],
   "source": [
    "#Creating a pipeline for transforming both categorical and numerical features\n",
    "numeric_transformer = Pipeline(steps=[\n",
    "    ('scaler', StandardScaler())\n",
    "])\n",
    "\n",
    "categorical_transformer = Pipeline(steps=[\n",
    "    ('onehot', OneHotEncoder(handle_unknown='ignore'))\n",
    "])"
   ]
  },
  {
   "cell_type": "code",
   "execution_count": 11,
   "id": "bd4bb1fb",
   "metadata": {},
   "outputs": [],
   "source": [
    "preprocessor = ColumnTransformer(transformers= [\n",
    "    ('num', numeric_transformer, num_features),\n",
    "    ('cat', categorical_transformer, cat_features)\n",
    "    ],\n",
    "      remainder = 'passthrough'                       \n",
    "    )"
   ]
  },
  {
   "cell_type": "code",
   "execution_count": 15,
   "id": "dff57b27",
   "metadata": {},
   "outputs": [],
   "source": [
    "#Classifying certain positions into 4 main categories Defender, Midfielder, Forward and Goalkeeper\n",
    "y.value_counts()\n",
    "defends = ['CB', 'RB', 'LB', 'RWB', 'LWB'] #Defenders\n",
    "midfield = ['CAM', 'RM', 'CDM', 'CM','LM'] #Midfielders\n",
    "forward = ['ST', 'RW', 'LW', 'CF'] #Forwards\n",
    "keeper = ['GK'] #Goalkeeper\n",
    "y_precise = []\n",
    "for i in y:\n",
    "    if i in defends:\n",
    "        y_precise.append(i.replace(i, 'Defender'))\n",
    "    elif i in midfield:\n",
    "        y_precise.append(i.replace(i, 'Midfielder'))\n",
    "    elif i in forward:\n",
    "        y_precise.append(i.replace(i, 'Forward'))\n",
    "    else:\n",
    "        y_precise.append(i.replace(i, 'Goalkeeper'))"
   ]
  },
  {
   "cell_type": "code",
   "execution_count": 21,
   "id": "4802746f",
   "metadata": {},
   "outputs": [],
   "source": [
    "#NEw target column\n",
    "y_prec = pd.Series(y_precise, name = 'Best Position')"
   ]
  },
  {
   "cell_type": "code",
   "execution_count": 23,
   "id": "7eda5265",
   "metadata": {},
   "outputs": [
    {
     "data": {
      "text/plain": [
       "Midfielder    7058\n",
       "Defender      6273\n",
       "Forward       3147\n",
       "Goalkeeper    2061\n",
       "Name: Best Position, dtype: int64"
      ]
     },
     "execution_count": 23,
     "metadata": {},
     "output_type": "execute_result"
    }
   ],
   "source": [
    "#Total number for each of the four player position categories\n",
    "y_prec.value_counts()"
   ]
  },
  {
   "cell_type": "code",
   "execution_count": 25,
   "id": "2a5988d1",
   "metadata": {},
   "outputs": [],
   "source": [
    "#Transforming my target column for model training\n",
    "target = {'Midfielder':0,\n",
    "         'Defender':1,\n",
    "         'Forward':2,\n",
    "         'Goalkeeper': 3,\n",
    "         }\n",
    "y_trans = []\n",
    "for i in y_prec:\n",
    "    y_trans.append(target[i])"
   ]
  },
  {
   "cell_type": "code",
   "execution_count": 26,
   "id": "fff852a3",
   "metadata": {},
   "outputs": [],
   "source": [
    "#target column for model training\n",
    "y_tran = pd.Series(y_trans, name = 'Best Position')"
   ]
  },
  {
   "cell_type": "markdown",
   "id": "9787ea72",
   "metadata": {},
   "source": [
    "## Model Training"
   ]
  },
  {
   "cell_type": "code",
   "execution_count": 28,
   "id": "7c221ff6",
   "metadata": {},
   "outputs": [],
   "source": [
    "#Importing models for training data\n",
    "from sklearn.ensemble import RandomForestClassifier\n",
    "from sklearn.tree import DecisionTreeClassifier\n",
    "from sklearn.linear_model import LogisticRegression\n",
    "from xgboost import XGBClassifier\n",
    "from sklearn.svm import SVC\n",
    "from sklearn.metrics import accuracy_score, classification_report, ConfusionMatrixDisplay, precision_score, recall_score, f1_score, roc_auc_score, roc_curve\n",
    "from sklearn.svm import SVC"
   ]
  },
  {
   "cell_type": "code",
   "execution_count": 29,
   "id": "c2839108",
   "metadata": {},
   "outputs": [
    {
     "data": {
      "text/plain": [
       "['Logistic Regression', 'Decision Tree', 'Random Forest', 'XG Boost', 'SVM']"
      ]
     },
     "execution_count": 29,
     "metadata": {},
     "output_type": "execute_result"
    }
   ],
   "source": [
    "models = {\n",
    "    'Logistic Regression': LogisticRegression(),\n",
    "    'Decision Tree': DecisionTreeClassifier(),\n",
    "    'Random Forest': RandomForestClassifier(),\n",
    "    'XG Boost': XGBClassifier(),\n",
    "    'SVM': SVC(kernel='linear')\n",
    "}\n",
    "\n",
    "list(models.keys())"
   ]
  },
  {
   "cell_type": "code",
   "execution_count": 30,
   "id": "b7169f49",
   "metadata": {},
   "outputs": [
    {
     "name": "stderr",
     "output_type": "stream",
     "text": [
      "C:\\Users\\Dipeolu Ayomide\\anaconda3\\lib\\site-packages\\sklearn\\linear_model\\_logistic.py:460: ConvergenceWarning: lbfgs failed to converge (status=1):\n",
      "STOP: TOTAL NO. of ITERATIONS REACHED LIMIT.\n",
      "\n",
      "Increase the number of iterations (max_iter) or scale the data as shown in:\n",
      "    https://scikit-learn.org/stable/modules/preprocessing.html\n",
      "Please also refer to the documentation for alternative solver options:\n",
      "    https://scikit-learn.org/stable/modules/linear_model.html#logistic-regression\n",
      "  n_iter_i = _check_optimize_result(\n"
     ]
    },
    {
     "name": "stdout",
     "output_type": "stream",
     "text": [
      "Logistic Regression\n",
      "Model peformance for Training set\n",
      "- Accuracy: 0.9224\n",
      "- F1 score: 0.9224\n",
      "- Precision: 0.9225\n",
      "- Recall: 0.9224\n",
      "---------------------------------------\n",
      "Model performance for Test set\n",
      "- Accuracy: 0.9157\n",
      "- F1 score: 0.9156\n",
      "- Precision: 0.9162\n",
      "- Recall: 0.9157\n",
      "===================================\n",
      "\n",
      "\n",
      "Decision Tree\n",
      "Model peformance for Training set\n",
      "- Accuracy: 1.0000\n",
      "- F1 score: 1.0000\n",
      "- Precision: 1.0000\n",
      "- Recall: 1.0000\n",
      "---------------------------------------\n",
      "Model performance for Test set\n",
      "- Accuracy: 0.8637\n",
      "- F1 score: 0.8638\n",
      "- Precision: 0.8639\n",
      "- Recall: 0.8637\n",
      "===================================\n",
      "\n",
      "\n",
      "Random Forest\n",
      "Model peformance for Training set\n",
      "- Accuracy: 1.0000\n",
      "- F1 score: 1.0000\n",
      "- Precision: 1.0000\n",
      "- Recall: 1.0000\n",
      "---------------------------------------\n",
      "Model performance for Test set\n",
      "- Accuracy: 0.9047\n",
      "- F1 score: 0.9046\n",
      "- Precision: 0.9084\n",
      "- Recall: 0.9047\n",
      "===================================\n",
      "\n",
      "\n",
      "XG Boost\n",
      "Model peformance for Training set\n",
      "- Accuracy: 1.0000\n",
      "- F1 score: 1.0000\n",
      "- Precision: 1.0000\n",
      "- Recall: 1.0000\n",
      "---------------------------------------\n",
      "Model performance for Test set\n",
      "- Accuracy: 0.9254\n",
      "- F1 score: 0.9253\n",
      "- Precision: 0.9259\n",
      "- Recall: 0.9254\n",
      "===================================\n",
      "\n",
      "\n",
      "SVM\n",
      "Model peformance for Training set\n",
      "- Accuracy: 0.9261\n",
      "- F1 score: 0.9261\n",
      "- Precision: 0.9265\n",
      "- Recall: 0.9261\n",
      "---------------------------------------\n",
      "Model performance for Test set\n",
      "- Accuracy: 0.9151\n",
      "- F1 score: 0.9151\n",
      "- Precision: 0.9157\n",
      "- Recall: 0.9151\n",
      "===================================\n",
      "\n",
      "\n"
     ]
    }
   ],
   "source": [
    "for i,classifier in enumerate(list(models.values())):\n",
    "    \n",
    "    resampling_pipeline = ImblearnPipeline([\n",
    "    ('preprocessor', preprocessor),\n",
    "    ('classifier', classifier)\n",
    "    ])\n",
    "    \n",
    "    X_train, X_test, y_train, y_test = train_test_split(X, y_tran, test_size=0.3, random_state=42)\n",
    "    \n",
    "    model = resampling_pipeline\n",
    "    model.fit(X_train, y_train) #train model\n",
    "    \n",
    "    #Make predictions\n",
    "    y_train_pred = model.predict(X_train)\n",
    "    y_test_pred = model.predict(X_test)\n",
    "    \n",
    "    #Training set performance\n",
    "    model_train_accuracy = accuracy_score(y_train, y_train_pred)\n",
    "    model_train_f1 = f1_score(y_train, y_train_pred, average='weighted')\n",
    "    model_train_precision = precision_score(y_train, y_train_pred, average='weighted')\n",
    "    model_train_recall = recall_score(y_train, y_train_pred, average='weighted')\n",
    "    #model_train_rocauc_score = roc_auc_score(y_train, y_train_pred, average='weighted', multi_class='ovr')\n",
    "\n",
    "    \n",
    "    #Test set performance\n",
    "    model_test_accuracy = accuracy_score(y_test, y_test_pred)\n",
    "    model_test_f1 = f1_score(y_test, y_test_pred, average='weighted')\n",
    "    model_test_precision = precision_score(y_test, y_test_pred, average='weighted')\n",
    "    model_test_recall = recall_score(y_test, y_test_pred, average='weighted')\n",
    "    #model_test_rocauc_score = roc_auc_score(y_test, y_test_pred, average='weighted')\n",
    "                                            \n",
    "    print(list(models.keys())[i])\n",
    "    \n",
    "    print('Model peformance for Training set')\n",
    "    print(\"- Accuracy: {:.4f}\".format(model_train_accuracy))\n",
    "    print(\"- F1 score: {:.4f}\".format(model_train_f1))\n",
    "                                            \n",
    "    print(\"- Precision: {:.4f}\".format(model_train_precision))\n",
    "    print(\"- Recall: {:.4f}\".format(model_train_recall))\n",
    "    #print(\"- Roc Auc Score: {:.4f}\".format(model_train_rocauc_score))\n",
    "                                            \n",
    "                                            \n",
    "                                            \n",
    "    print('---------------------------------------')\n",
    "                                            \n",
    "    print('Model performance for Test set')\n",
    "    print(\"- Accuracy: {:.4f}\".format(model_test_accuracy))\n",
    "    print(\"- F1 score: {:.4f}\".format(model_test_f1))\n",
    "    print(\"- Precision: {:.4f}\".format(model_test_precision))\n",
    "    print(\"- Recall: {:.4f}\".format(model_test_recall))\n",
    "    #print(\"- Roc Auc Score: {:.4f}\".format(model_test_rocauc_score))\n",
    "                                            \n",
    "                                            \n",
    "    print('='*35)\n",
    "    print('\\n')"
   ]
  },
  {
   "cell_type": "markdown",
   "id": "7209b125",
   "metadata": {},
   "source": [
    "## Hyperparameter Tuning"
   ]
  },
  {
   "cell_type": "code",
   "execution_count": 31,
   "id": "a93409cc",
   "metadata": {},
   "outputs": [],
   "source": [
    "#Hyper parameter training for XGboost\n",
    "\n",
    "#Parameters to be used for tuning XGboost model\n",
    "params = {\n",
    "    \"learning_rate\"    : [0.05, 0.10, 0.15, 0.20, 0.25, 0.30 ] ,\n",
    "    \"max_depth\"        : [3, 4, 5, 6, 8, 10, 12, 15],\n",
    "    \"min_child_weight\" : [1, 3, 5, 7 ],\n",
    "    \"gamma\"            : [0.0, 0.1, 0.2 , 0.3, 0.4],\n",
    "    \"colsample_bytree\" : [0.3, 0.4, 0.5 , 0.7]\n",
    "}"
   ]
  },
  {
   "cell_type": "code",
   "execution_count": 32,
   "id": "613ac3ee",
   "metadata": {},
   "outputs": [],
   "source": [
    "#Importing the randomized search that helps to select the best parameters\n",
    "from sklearn.model_selection import RandomizedSearchCV, GridSearchCV"
   ]
  },
  {
   "cell_type": "code",
   "execution_count": null,
   "id": "541bd1f4",
   "metadata": {},
   "outputs": [],
   "source": [
    "classifier=XGBClassifier()\n",
    "random_search=RandomizedSearchCV(classifier,param_distributions=params,n_iter=5,scoring='roc_auc',n_jobs=-1,cv=5,verbose=3)\n",
    "boss_tuning = ImblearnPipeline([\n",
    "    ('preprocessor', preprocessor),\n",
    "    ('tuning', random_search)\n",
    "])\n",
    "boss_tuning.fit(X_train,y_train)"
   ]
  }
 ],
 "metadata": {
  "kernelspec": {
   "display_name": "Python 3 (ipykernel)",
   "language": "python",
   "name": "python3"
  },
  "language_info": {
   "codemirror_mode": {
    "name": "ipython",
    "version": 3
   },
   "file_extension": ".py",
   "mimetype": "text/x-python",
   "name": "python",
   "nbconvert_exporter": "python",
   "pygments_lexer": "ipython3",
   "version": "3.10.9"
  }
 },
 "nbformat": 4,
 "nbformat_minor": 5
}
