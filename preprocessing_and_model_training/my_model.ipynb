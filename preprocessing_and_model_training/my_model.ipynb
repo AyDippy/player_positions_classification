{
 "cells": [
  {
   "cell_type": "code",
   "execution_count": 4,
   "id": "7fdae3b7",
   "metadata": {},
   "outputs": [],
   "source": [
    "#Import preprocessing libraries\n",
    "import pandas as pd\n",
    "import numpy as np\n",
    "from sklearn.compose import ColumnTransformer\n",
    "from sklearn.pipeline import Pipeline\n",
    "from sklearn.preprocessing import StandardScaler, OneHotEncoder\n",
    "from imblearn.combine import SMOTETomek\n",
    "from sklearn.model_selection import train_test_split\n",
    "from sklearn.metrics import classification_report\n",
    "from imblearn.pipeline import Pipeline as ImblearnPipeline\n",
    "from sklearn.metrics import accuracy_score"
   ]
  },
  {
   "cell_type": "code",
   "execution_count": 5,
   "id": "93a5ba7c",
   "metadata": {},
   "outputs": [],
   "source": [
    "#Loading the datasets\n",
    "df = pd.read_csv('eda.csv')"
   ]
  },
  {
   "cell_type": "code",
   "execution_count": 6,
   "id": "2ae29fd3",
   "metadata": {},
   "outputs": [
    {
     "name": "stdout",
     "output_type": "stream",
     "text": [
      "<class 'pandas.core.frame.DataFrame'>\n",
      "RangeIndex: 18539 entries, 0 to 18538\n",
      "Data columns (total 35 columns):\n",
      " #   Column                    Non-Null Count  Dtype \n",
      "---  ------                    --------------  ----- \n",
      " 0   Overall                   18539 non-null  int64 \n",
      " 1   Potential                 18539 non-null  int64 \n",
      " 2   Age                       18539 non-null  int64 \n",
      " 3   Height(in cm)             18539 non-null  int64 \n",
      " 4   Weight(in kg)             18539 non-null  int64 \n",
      " 5   Weak Foot Rating          18539 non-null  int64 \n",
      " 6   Skill Moves               18539 non-null  int64 \n",
      " 7   International Reputation  18539 non-null  int64 \n",
      " 8   Pace Total                18539 non-null  int64 \n",
      " 9   Shooting Total            18539 non-null  int64 \n",
      " 10  Passing Total             18539 non-null  int64 \n",
      " 11  Dribbling Total           18539 non-null  int64 \n",
      " 12  Defending Total           18539 non-null  int64 \n",
      " 13  Physicality Total         18539 non-null  int64 \n",
      " 14  Crossing                  18539 non-null  int64 \n",
      " 15  Finishing                 18539 non-null  int64 \n",
      " 16  Heading Accuracy          18539 non-null  int64 \n",
      " 17  Short Passing             18539 non-null  int64 \n",
      " 18  Curve                     18539 non-null  int64 \n",
      " 19  Acceleration              18539 non-null  int64 \n",
      " 20  Agility                   18539 non-null  int64 \n",
      " 21  Reactions                 18539 non-null  int64 \n",
      " 22  Balance                   18539 non-null  int64 \n",
      " 23  Shot Power                18539 non-null  int64 \n",
      " 24  Jumping                   18539 non-null  int64 \n",
      " 25  Stamina                   18539 non-null  int64 \n",
      " 26  Strength                  18539 non-null  int64 \n",
      " 27  Aggression                18539 non-null  int64 \n",
      " 28  Vision                    18539 non-null  int64 \n",
      " 29  Penalties                 18539 non-null  int64 \n",
      " 30  Composure                 18539 non-null  int64 \n",
      " 31   GoalkeeperKicking        18539 non-null  int64 \n",
      " 32  Nationality               18539 non-null  object\n",
      " 33  Preferred Foot            18539 non-null  object\n",
      " 34  Best Position             18539 non-null  object\n",
      "dtypes: int64(32), object(3)\n",
      "memory usage: 5.0+ MB\n"
     ]
    }
   ],
   "source": [
    "#Info about datasets\n",
    "df.info()"
   ]
  },
  {
   "cell_type": "code",
   "execution_count": null,
   "id": "e04a1cae",
   "metadata": {},
   "outputs": [],
   "source": []
  },
  {
   "cell_type": "code",
   "execution_count": null,
   "id": "9f37f6d4",
   "metadata": {},
   "outputs": [],
   "source": []
  }
 ],
 "metadata": {
  "kernelspec": {
   "display_name": "Python 3 (ipykernel)",
   "language": "python",
   "name": "python3"
  },
  "language_info": {
   "codemirror_mode": {
    "name": "ipython",
    "version": 3
   },
   "file_extension": ".py",
   "mimetype": "text/x-python",
   "name": "python",
   "nbconvert_exporter": "python",
   "pygments_lexer": "ipython3",
   "version": "3.10.9"
  }
 },
 "nbformat": 4,
 "nbformat_minor": 5
}
