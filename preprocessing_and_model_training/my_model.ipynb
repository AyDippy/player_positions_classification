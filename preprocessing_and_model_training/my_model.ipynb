{
 "cells": [
  {
   "cell_type": "code",
   "execution_count": 2,
   "id": "7fdae3b7",
   "metadata": {},
   "outputs": [],
   "source": [
    "#Import preprocessing libraries\n",
    "import pandas as pd\n",
    "import numpy as np\n",
    "from sklearn.compose import ColumnTransformer\n",
    "from sklearn.pipeline import Pipeline\n",
    "from sklearn.preprocessing import StandardScaler, OneHotEncoder\n",
    "from imblearn.combine import SMOTETomek\n",
    "from sklearn.model_selection import train_test_split\n",
    "from sklearn.metrics import classification_report\n",
    "from imblearn.pipeline import Pipeline as ImblearnPipeline\n",
    "from sklearn.metrics import accuracy_score"
   ]
  },
  {
   "cell_type": "code",
   "execution_count": 3,
   "id": "93a5ba7c",
   "metadata": {},
   "outputs": [],
   "source": [
    "#Loading the datasets\n",
    "df = pd.read_csv('eda.csv')"
   ]
  },
  {
   "cell_type": "code",
   "execution_count": 4,
   "id": "8e3d1189",
   "metadata": {},
   "outputs": [],
   "source": [
    "#Dropping the potential column as a players potential cannot be known till he excels in a certain position as well as the interntional \n",
    "#reputation column as it should not be a determinant for a players best position\n",
    "df = df.drop(columns = ['Potential', 'International Reputation'])"
   ]
  },
  {
   "cell_type": "code",
   "execution_count": 5,
   "id": "fea6893e",
   "metadata": {},
   "outputs": [
    {
     "data": {
      "text/plain": [
       "0        4\n",
       "1        4\n",
       "2        4\n",
       "3        5\n",
       "4        4\n",
       "        ..\n",
       "18534    3\n",
       "18535    3\n",
       "18536    3\n",
       "18537    3\n",
       "18538    3\n",
       "Name: Weak Foot Rating, Length: 18539, dtype: int64"
      ]
     },
     "execution_count": 5,
     "metadata": {},
     "output_type": "execute_result"
    }
   ],
   "source": [
    "df['Weak Foot Rating']"
   ]
  },
  {
   "cell_type": "code",
   "execution_count": 6,
   "id": "2ae29fd3",
   "metadata": {},
   "outputs": [
    {
     "name": "stdout",
     "output_type": "stream",
     "text": [
      "<class 'pandas.core.frame.DataFrame'>\n",
      "RangeIndex: 18539 entries, 0 to 18538\n",
      "Data columns (total 33 columns):\n",
      " #   Column              Non-Null Count  Dtype \n",
      "---  ------              --------------  ----- \n",
      " 0   Overall             18539 non-null  int64 \n",
      " 1   Age                 18539 non-null  int64 \n",
      " 2   Height(in cm)       18539 non-null  int64 \n",
      " 3   Weight(in kg)       18539 non-null  int64 \n",
      " 4   Weak Foot Rating    18539 non-null  int64 \n",
      " 5   Skill Moves         18539 non-null  int64 \n",
      " 6   Pace Total          18539 non-null  int64 \n",
      " 7   Shooting Total      18539 non-null  int64 \n",
      " 8   Passing Total       18539 non-null  int64 \n",
      " 9   Dribbling Total     18539 non-null  int64 \n",
      " 10  Defending Total     18539 non-null  int64 \n",
      " 11  Physicality Total   18539 non-null  int64 \n",
      " 12  Crossing            18539 non-null  int64 \n",
      " 13  Finishing           18539 non-null  int64 \n",
      " 14  Heading Accuracy    18539 non-null  int64 \n",
      " 15  Short Passing       18539 non-null  int64 \n",
      " 16  Curve               18539 non-null  int64 \n",
      " 17  Acceleration        18539 non-null  int64 \n",
      " 18  Agility             18539 non-null  int64 \n",
      " 19  Reactions           18539 non-null  int64 \n",
      " 20  Balance             18539 non-null  int64 \n",
      " 21  Shot Power          18539 non-null  int64 \n",
      " 22  Jumping             18539 non-null  int64 \n",
      " 23  Stamina             18539 non-null  int64 \n",
      " 24  Strength            18539 non-null  int64 \n",
      " 25  Aggression          18539 non-null  int64 \n",
      " 26  Vision              18539 non-null  int64 \n",
      " 27  Penalties           18539 non-null  int64 \n",
      " 28  Composure           18539 non-null  int64 \n",
      " 29   GoalkeeperKicking  18539 non-null  int64 \n",
      " 30  Nationality         18539 non-null  object\n",
      " 31  Preferred Foot      18539 non-null  object\n",
      " 32  Best Position       18539 non-null  object\n",
      "dtypes: int64(30), object(3)\n",
      "memory usage: 4.7+ MB\n"
     ]
    }
   ],
   "source": [
    "#Info about datasets\n",
    "df.info()"
   ]
  },
  {
   "cell_type": "markdown",
   "id": "e1729d6e",
   "metadata": {},
   "source": [
    "## Preprocessing"
   ]
  },
  {
   "cell_type": "code",
   "execution_count": 7,
   "id": "e04a1cae",
   "metadata": {},
   "outputs": [],
   "source": [
    "#Copying my datsframe\n",
    "data =df.copy()"
   ]
  },
  {
   "cell_type": "code",
   "execution_count": 8,
   "id": "2a0bfeac",
   "metadata": {},
   "outputs": [
    {
     "data": {
      "text/plain": [
       "Index(['Overall', 'Age', 'Height(in cm)', 'Weight(in kg)', 'Weak Foot Rating',\n",
       "       'Skill Moves', 'Pace Total', 'Shooting Total', 'Passing Total',\n",
       "       'Dribbling Total', 'Defending Total', 'Physicality Total', 'Crossing',\n",
       "       'Finishing', 'Heading Accuracy', 'Short Passing', 'Curve',\n",
       "       'Acceleration', 'Agility', 'Reactions', 'Balance', 'Shot Power',\n",
       "       'Jumping', 'Stamina', 'Strength', 'Aggression', 'Vision', 'Penalties',\n",
       "       'Composure', ' GoalkeeperKicking', 'Nationality', 'Preferred Foot',\n",
       "       'Best Position'],\n",
       "      dtype='object')"
      ]
     },
     "execution_count": 8,
     "metadata": {},
     "output_type": "execute_result"
    }
   ],
   "source": [
    "#Splitting the features and target columns\n",
    "X = data.drop('Best Position', axis = 1)\n",
    "y = data['Best Position']\n",
    "data.columns"
   ]
  },
  {
   "cell_type": "code",
   "execution_count": 9,
   "id": "2032ccbe",
   "metadata": {},
   "outputs": [],
   "source": [
    "#Splitting numerical and categorical features\n",
    "num_features = ['Overall', 'Age', 'Height(in cm)', 'Weight(in kg)', 'Weak Foot Rating',\n",
    "       'Skill Moves', 'Pace Total', 'Shooting Total', 'Passing Total',\n",
    "       'Dribbling Total', 'Defending Total', 'Physicality Total', 'Crossing',\n",
    "       'Finishing', 'Heading Accuracy', 'Short Passing', 'Curve',\n",
    "       'Acceleration', 'Agility', 'Reactions', 'Balance', 'Shot Power',\n",
    "       'Jumping', 'Stamina', 'Strength', 'Aggression', 'Vision', 'Penalties',\n",
    "       'Composure', ' GoalkeeperKicking']\n",
    "cat_features  = ['Nationality', 'Preferred Foot']"
   ]
  },
  {
   "cell_type": "code",
   "execution_count": 10,
   "id": "3f0bbe4d",
   "metadata": {},
   "outputs": [],
   "source": [
    "#Creating a pipeline for transforming both categorical and numerical features\n",
    "numeric_transformer = Pipeline(steps=[\n",
    "    ('scaler', StandardScaler())\n",
    "])\n",
    "\n",
    "categorical_transformer = Pipeline(steps=[\n",
    "    ('onehot', OneHotEncoder(handle_unknown='ignore'))\n",
    "])"
   ]
  },
  {
   "cell_type": "code",
   "execution_count": 11,
   "id": "bd4bb1fb",
   "metadata": {},
   "outputs": [],
   "source": [
    "preprocessor = ColumnTransformer(transformers= [\n",
    "    ('num', numeric_transformer, num_features),\n",
    "    ('cat', categorical_transformer, cat_features)\n",
    "    ],\n",
    "      remainder = 'passthrough'                       \n",
    "    )"
   ]
  },
  {
   "cell_type": "code",
   "execution_count": 15,
   "id": "4af0706f",
   "metadata": {},
   "outputs": [],
   "source": [
    "#Classifying certain positions into 4 main categories Defender, Midfielder, Forward and Goalkeeper\n",
    "y.value_counts()\n",
    "defends = ['CB', 'RB', 'LB', 'RWB', 'LWB'] #Defenders\n",
    "midfield = ['CAM', 'RM', 'CDM', 'CM','LM'] #Midfielders\n",
    "forward = ['ST', 'RW', 'LW', 'CF'] #Forwards\n",
    "keeper = ['GK'] #Goalkeeper\n",
    "y_precise = []\n",
    "for i in y:\n",
    "    if i in defends:\n",
    "        y_precise.append(i.replace(i, 'Defender'))\n",
    "    elif i in midfield:\n",
    "        y_precise.append(i.replace(i, 'Midfielder'))\n",
    "    elif i in forward:\n",
    "        y_precise.append(i.replace(i, 'Forward'))\n",
    "    else:\n",
    "        y_precise.append(i.replace(i, 'Goalkeeper'))"
   ]
  },
  {
   "cell_type": "code",
   "execution_count": 21,
   "id": "ca6d0273",
   "metadata": {},
   "outputs": [],
   "source": [
    "#NEw target column\n",
    "y_prec = pd.Series(y_precise, name = 'Best Position')"
   ]
  },
  {
   "cell_type": "code",
   "execution_count": 23,
   "id": "b582a6b5",
   "metadata": {},
   "outputs": [
    {
     "data": {
      "text/plain": [
       "Midfielder    7058\n",
       "Defender      6273\n",
       "Forward       3147\n",
       "Goalkeeper    2061\n",
       "Name: Best Position, dtype: int64"
      ]
     },
     "execution_count": 23,
     "metadata": {},
     "output_type": "execute_result"
    }
   ],
   "source": [
    "#Total number for each of the four player position categories\n",
    "y_prec.value_counts()"
   ]
  },
  {
   "cell_type": "code",
   "execution_count": 25,
   "id": "2a5988d1",
   "metadata": {},
   "outputs": [],
   "source": [
    "#Transforming my target column for model training\n",
    "target = {'Midfielder':0,\n",
    "         'Defender':1,\n",
    "         'Forward':2,\n",
    "         'Goalkeeper': 3,\n",
    "         }\n",
    "y_trans = []\n",
    "for i in y_prec:\n",
    "    y_trans.append(target[i])"
   ]
  },
  {
   "cell_type": "code",
   "execution_count": 26,
   "id": "fff852a3",
   "metadata": {},
   "outputs": [],
   "source": [
    "#target column for model training\n",
    "y_tran = pd.Series(y_trans, name = 'Best Position')"
   ]
  },
  {
   "cell_type": "markdown",
   "id": "9787ea72",
   "metadata": {},
   "source": [
    "## Model Training"
   ]
  },
  {
   "cell_type": "code",
   "execution_count": 28,
   "id": "7c221ff6",
   "metadata": {},
   "outputs": [],
   "source": [
    "#Importing models for training data\n",
    "from sklearn.ensemble import RandomForestClassifier\n",
    "from sklearn.tree import DecisionTreeClassifier\n",
    "from sklearn.linear_model import LogisticRegression\n",
    "from xgboost import XGBClassifier\n",
    "from sklearn.svm import SVC\n",
    "from sklearn.metrics import accuracy_score, classification_report, ConfusionMatrixDisplay, precision_score, recall_score, f1_score, roc_auc_score, roc_curve\n",
    "from sklearn.svm import SVC"
   ]
  },
  {
   "cell_type": "code",
   "execution_count": 29,
   "id": "c2839108",
   "metadata": {},
   "outputs": [
    {
     "data": {
      "text/plain": [
       "['Logistic Regression', 'Decision Tree', 'Random Forest', 'XG Boost', 'SVM']"
      ]
     },
     "execution_count": 29,
     "metadata": {},
     "output_type": "execute_result"
    }
   ],
   "source": [
    "models = {\n",
    "    'Logistic Regression': LogisticRegression(),\n",
    "    'Decision Tree': DecisionTreeClassifier(),\n",
    "    'Random Forest': RandomForestClassifier(),\n",
    "    'XG Boost': XGBClassifier(),\n",
    "    'SVM': SVC(kernel='linear')\n",
    "}\n",
    "\n",
    "list(models.keys())"
   ]
  },
  {
   "cell_type": "code",
   "execution_count": 30,
   "id": "b7169f49",
   "metadata": {},
   "outputs": [
    {
     "name": "stderr",
     "output_type": "stream",
     "text": [
      "C:\\Users\\Dipeolu Ayomide\\anaconda3\\lib\\site-packages\\sklearn\\linear_model\\_logistic.py:460: ConvergenceWarning: lbfgs failed to converge (status=1):\n",
      "STOP: TOTAL NO. of ITERATIONS REACHED LIMIT.\n",
      "\n",
      "Increase the number of iterations (max_iter) or scale the data as shown in:\n",
      "    https://scikit-learn.org/stable/modules/preprocessing.html\n",
      "Please also refer to the documentation for alternative solver options:\n",
      "    https://scikit-learn.org/stable/modules/linear_model.html#logistic-regression\n",
      "  n_iter_i = _check_optimize_result(\n"
     ]
    },
    {
     "name": "stdout",
     "output_type": "stream",
     "text": [
      "Logistic Regression\n",
      "Model peformance for Training set\n",
      "- Accuracy: 0.9224\n",
      "- F1 score: 0.9224\n",
      "- Precision: 0.9225\n",
      "- Recall: 0.9224\n",
      "---------------------------------------\n",
      "Model performance for Test set\n",
      "- Accuracy: 0.9157\n",
      "- F1 score: 0.9156\n",
      "- Precision: 0.9162\n",
      "- Recall: 0.9157\n",
      "===================================\n",
      "\n",
      "\n",
      "Decision Tree\n",
      "Model peformance for Training set\n",
      "- Accuracy: 1.0000\n",
      "- F1 score: 1.0000\n",
      "- Precision: 1.0000\n",
      "- Recall: 1.0000\n",
      "---------------------------------------\n",
      "Model performance for Test set\n",
      "- Accuracy: 0.8637\n",
      "- F1 score: 0.8638\n",
      "- Precision: 0.8639\n",
      "- Recall: 0.8637\n",
      "===================================\n",
      "\n",
      "\n",
      "Random Forest\n",
      "Model peformance for Training set\n",
      "- Accuracy: 1.0000\n",
      "- F1 score: 1.0000\n",
      "- Precision: 1.0000\n",
      "- Recall: 1.0000\n",
      "---------------------------------------\n",
      "Model performance for Test set\n",
      "- Accuracy: 0.9047\n",
      "- F1 score: 0.9046\n",
      "- Precision: 0.9084\n",
      "- Recall: 0.9047\n",
      "===================================\n",
      "\n",
      "\n",
      "XG Boost\n",
      "Model peformance for Training set\n",
      "- Accuracy: 1.0000\n",
      "- F1 score: 1.0000\n",
      "- Precision: 1.0000\n",
      "- Recall: 1.0000\n",
      "---------------------------------------\n",
      "Model performance for Test set\n",
      "- Accuracy: 0.9254\n",
      "- F1 score: 0.9253\n",
      "- Precision: 0.9259\n",
      "- Recall: 0.9254\n",
      "===================================\n",
      "\n",
      "\n",
      "SVM\n",
      "Model peformance for Training set\n",
      "- Accuracy: 0.9261\n",
      "- F1 score: 0.9261\n",
      "- Precision: 0.9265\n",
      "- Recall: 0.9261\n",
      "---------------------------------------\n",
      "Model performance for Test set\n",
      "- Accuracy: 0.9151\n",
      "- F1 score: 0.9151\n",
      "- Precision: 0.9157\n",
      "- Recall: 0.9151\n",
      "===================================\n",
      "\n",
      "\n"
     ]
    }
   ],
   "source": [
    "for i,classifier in enumerate(list(models.values())):\n",
    "    \n",
    "    resampling_pipeline = ImblearnPipeline([\n",
    "    ('preprocessor', preprocessor),\n",
    "    ('classifier', classifier)\n",
    "    ])\n",
    "    \n",
    "    X_train, X_test, y_train, y_test = train_test_split(X, y_tran, test_size=0.3, random_state=42)\n",
    "    \n",
    "    model = resampling_pipeline\n",
    "    model.fit(X_train, y_train) #train model\n",
    "    \n",
    "    #Make predictions\n",
    "    y_train_pred = model.predict(X_train)\n",
    "    y_test_pred = model.predict(X_test)\n",
    "    \n",
    "    #Training set performance\n",
    "    model_train_accuracy = accuracy_score(y_train, y_train_pred)\n",
    "    model_train_f1 = f1_score(y_train, y_train_pred, average='weighted')\n",
    "    model_train_precision = precision_score(y_train, y_train_pred, average='weighted')\n",
    "    model_train_recall = recall_score(y_train, y_train_pred, average='weighted')\n",
    "    #model_train_rocauc_score = roc_auc_score(y_train, y_train_pred, average='weighted', multi_class='ovr')\n",
    "\n",
    "    \n",
    "    #Test set performance\n",
    "    model_test_accuracy = accuracy_score(y_test, y_test_pred)\n",
    "    model_test_f1 = f1_score(y_test, y_test_pred, average='weighted')\n",
    "    model_test_precision = precision_score(y_test, y_test_pred, average='weighted')\n",
    "    model_test_recall = recall_score(y_test, y_test_pred, average='weighted')\n",
    "    #model_test_rocauc_score = roc_auc_score(y_test, y_test_pred, average='weighted')\n",
    "                                            \n",
    "    print(list(models.keys())[i])\n",
    "    \n",
    "    print('Model peformance for Training set')\n",
    "    print(\"- Accuracy: {:.4f}\".format(model_train_accuracy))\n",
    "    print(\"- F1 score: {:.4f}\".format(model_train_f1))\n",
    "                                            \n",
    "    print(\"- Precision: {:.4f}\".format(model_train_precision))\n",
    "    print(\"- Recall: {:.4f}\".format(model_train_recall))\n",
    "    #print(\"- Roc Auc Score: {:.4f}\".format(model_train_rocauc_score))\n",
    "                                            \n",
    "                                            \n",
    "                                            \n",
    "    print('---------------------------------------')\n",
    "                                            \n",
    "    print('Model performance for Test set')\n",
    "    print(\"- Accuracy: {:.4f}\".format(model_test_accuracy))\n",
    "    print(\"- F1 score: {:.4f}\".format(model_test_f1))\n",
    "    print(\"- Precision: {:.4f}\".format(model_test_precision))\n",
    "    print(\"- Recall: {:.4f}\".format(model_test_recall))\n",
    "    #print(\"- Roc Auc Score: {:.4f}\".format(model_test_rocauc_score))\n",
    "                                            \n",
    "                                            \n",
    "    print('='*35)\n",
    "    print('\\n')"
   ]
  },
  {
   "cell_type": "markdown",
   "id": "7209b125",
   "metadata": {},
   "source": [
    "## Hyperparameter Tuning"
   ]
  },
  {
   "cell_type": "code",
   "execution_count": 31,
   "id": "a93409cc",
   "metadata": {},
   "outputs": [],
   "source": [
    "#Hyper parameter training for XGboost\n",
    "\n",
    "#Parameters to be used for tuning XGboost model\n",
    "params = {\n",
    "    \"learning_rate\"    : [0.05, 0.10, 0.15, 0.20, 0.25, 0.30 ] ,\n",
    "    \"max_depth\"        : [3, 4, 5, 6, 8, 10, 12, 15],\n",
    "    \"min_child_weight\" : [1, 3, 5, 7 ],\n",
    "    \"gamma\"            : [0.0, 0.1, 0.2 , 0.3, 0.4],\n",
    "    \"colsample_bytree\" : [0.3, 0.4, 0.5 , 0.7]\n",
    "}"
   ]
  },
  {
   "cell_type": "code",
   "execution_count": 32,
   "id": "613ac3ee",
   "metadata": {},
   "outputs": [],
   "source": [
    "#Importing the randomized search that helps to select the best parameters\n",
    "from sklearn.model_selection import RandomizedSearchCV, GridSearchCV"
   ]
  },
  {
   "cell_type": "code",
   "execution_count": 33,
   "id": "541bd1f4",
   "metadata": {},
   "outputs": [
    {
     "name": "stdout",
     "output_type": "stream",
     "text": [
      "Fitting 5 folds for each of 5 candidates, totalling 25 fits\n"
     ]
    },
    {
     "name": "stderr",
     "output_type": "stream",
     "text": [
      "C:\\Users\\Dipeolu Ayomide\\anaconda3\\lib\\site-packages\\sklearn\\model_selection\\_search.py:976: UserWarning: One or more of the test scores are non-finite: [nan nan nan nan nan]\n",
      "  warnings.warn(\n"
     ]
    },
    {
     "data": {
      "text/html": [
       "<style>#sk-container-id-1 {color: black;}#sk-container-id-1 pre{padding: 0;}#sk-container-id-1 div.sk-toggleable {background-color: white;}#sk-container-id-1 label.sk-toggleable__label {cursor: pointer;display: block;width: 100%;margin-bottom: 0;padding: 0.3em;box-sizing: border-box;text-align: center;}#sk-container-id-1 label.sk-toggleable__label-arrow:before {content: \"▸\";float: left;margin-right: 0.25em;color: #696969;}#sk-container-id-1 label.sk-toggleable__label-arrow:hover:before {color: black;}#sk-container-id-1 div.sk-estimator:hover label.sk-toggleable__label-arrow:before {color: black;}#sk-container-id-1 div.sk-toggleable__content {max-height: 0;max-width: 0;overflow: hidden;text-align: left;background-color: #f0f8ff;}#sk-container-id-1 div.sk-toggleable__content pre {margin: 0.2em;color: black;border-radius: 0.25em;background-color: #f0f8ff;}#sk-container-id-1 input.sk-toggleable__control:checked~div.sk-toggleable__content {max-height: 200px;max-width: 100%;overflow: auto;}#sk-container-id-1 input.sk-toggleable__control:checked~label.sk-toggleable__label-arrow:before {content: \"▾\";}#sk-container-id-1 div.sk-estimator input.sk-toggleable__control:checked~label.sk-toggleable__label {background-color: #d4ebff;}#sk-container-id-1 div.sk-label input.sk-toggleable__control:checked~label.sk-toggleable__label {background-color: #d4ebff;}#sk-container-id-1 input.sk-hidden--visually {border: 0;clip: rect(1px 1px 1px 1px);clip: rect(1px, 1px, 1px, 1px);height: 1px;margin: -1px;overflow: hidden;padding: 0;position: absolute;width: 1px;}#sk-container-id-1 div.sk-estimator {font-family: monospace;background-color: #f0f8ff;border: 1px dotted black;border-radius: 0.25em;box-sizing: border-box;margin-bottom: 0.5em;}#sk-container-id-1 div.sk-estimator:hover {background-color: #d4ebff;}#sk-container-id-1 div.sk-parallel-item::after {content: \"\";width: 100%;border-bottom: 1px solid gray;flex-grow: 1;}#sk-container-id-1 div.sk-label:hover label.sk-toggleable__label {background-color: #d4ebff;}#sk-container-id-1 div.sk-serial::before {content: \"\";position: absolute;border-left: 1px solid gray;box-sizing: border-box;top: 0;bottom: 0;left: 50%;z-index: 0;}#sk-container-id-1 div.sk-serial {display: flex;flex-direction: column;align-items: center;background-color: white;padding-right: 0.2em;padding-left: 0.2em;position: relative;}#sk-container-id-1 div.sk-item {position: relative;z-index: 1;}#sk-container-id-1 div.sk-parallel {display: flex;align-items: stretch;justify-content: center;background-color: white;position: relative;}#sk-container-id-1 div.sk-item::before, #sk-container-id-1 div.sk-parallel-item::before {content: \"\";position: absolute;border-left: 1px solid gray;box-sizing: border-box;top: 0;bottom: 0;left: 50%;z-index: -1;}#sk-container-id-1 div.sk-parallel-item {display: flex;flex-direction: column;z-index: 1;position: relative;background-color: white;}#sk-container-id-1 div.sk-parallel-item:first-child::after {align-self: flex-end;width: 50%;}#sk-container-id-1 div.sk-parallel-item:last-child::after {align-self: flex-start;width: 50%;}#sk-container-id-1 div.sk-parallel-item:only-child::after {width: 0;}#sk-container-id-1 div.sk-dashed-wrapped {border: 1px dashed gray;margin: 0 0.4em 0.5em 0.4em;box-sizing: border-box;padding-bottom: 0.4em;background-color: white;}#sk-container-id-1 div.sk-label label {font-family: monospace;font-weight: bold;display: inline-block;line-height: 1.2em;}#sk-container-id-1 div.sk-label-container {text-align: center;}#sk-container-id-1 div.sk-container {/* jupyter's `normalize.less` sets `[hidden] { display: none; }` but bootstrap.min.css set `[hidden] { display: none !important; }` so we also need the `!important` here to be able to override the default hidden behavior on the sphinx rendered scikit-learn.org. See: https://github.com/scikit-learn/scikit-learn/issues/21755 */display: inline-block !important;position: relative;}#sk-container-id-1 div.sk-text-repr-fallback {display: none;}</style><div id=\"sk-container-id-1\" class=\"sk-top-container\"><div class=\"sk-text-repr-fallback\"><pre>Pipeline(steps=[(&#x27;preprocessor&#x27;,\n",
       "                 ColumnTransformer(remainder=&#x27;passthrough&#x27;,\n",
       "                                   transformers=[(&#x27;num&#x27;,\n",
       "                                                  Pipeline(steps=[(&#x27;scaler&#x27;,\n",
       "                                                                   StandardScaler())]),\n",
       "                                                  [&#x27;Overall&#x27;, &#x27;Age&#x27;,\n",
       "                                                   &#x27;Height(in cm)&#x27;,\n",
       "                                                   &#x27;Weight(in kg)&#x27;,\n",
       "                                                   &#x27;Weak Foot Rating&#x27;,\n",
       "                                                   &#x27;Skill Moves&#x27;, &#x27;Pace Total&#x27;,\n",
       "                                                   &#x27;Shooting Total&#x27;,\n",
       "                                                   &#x27;Passing Total&#x27;,\n",
       "                                                   &#x27;Dribbling Total&#x27;,\n",
       "                                                   &#x27;Defending Total&#x27;,\n",
       "                                                   &#x27;Physicality Total&#x27;,\n",
       "                                                   &#x27;Crossing&#x27;, &#x27;Finishing&#x27;,\n",
       "                                                   &#x27;Heading Accur...\n",
       "                                                            monotone_constraints=None,\n",
       "                                                            n_estimators=100,\n",
       "                                                            n_jobs=None,\n",
       "                                                            num_parallel_tree=None,\n",
       "                                                            predictor=None,\n",
       "                                                            random_state=None, ...),\n",
       "                                    n_iter=5, n_jobs=-1,\n",
       "                                    param_distributions={&#x27;colsample_bytree&#x27;: [0.3,\n",
       "                                                                              0.4,\n",
       "                                                                              0.5,\n",
       "                                                                              0.7],\n",
       "                                                         &#x27;gamma&#x27;: [0.0, 0.1,\n",
       "                                                                   0.2, 0.3,\n",
       "                                                                   0.4],\n",
       "                                                         &#x27;learning_rate&#x27;: [0.05,\n",
       "                                                                           0.1,\n",
       "                                                                           0.15,\n",
       "                                                                           0.2,\n",
       "                                                                           0.25,\n",
       "                                                                           0.3],\n",
       "                                                         &#x27;max_depth&#x27;: [3, 4, 5,\n",
       "                                                                       6, 8, 10,\n",
       "                                                                       12, 15],\n",
       "                                                         &#x27;min_child_weight&#x27;: [1,\n",
       "                                                                              3,\n",
       "                                                                              5,\n",
       "                                                                              7]},\n",
       "                                    scoring=&#x27;roc_auc&#x27;, verbose=3))])</pre><b>In a Jupyter environment, please rerun this cell to show the HTML representation or trust the notebook. <br />On GitHub, the HTML representation is unable to render, please try loading this page with nbviewer.org.</b></div><div class=\"sk-container\" hidden><div class=\"sk-item sk-dashed-wrapped\"><div class=\"sk-label-container\"><div class=\"sk-label sk-toggleable\"><input class=\"sk-toggleable__control sk-hidden--visually\" id=\"sk-estimator-id-1\" type=\"checkbox\" ><label for=\"sk-estimator-id-1\" class=\"sk-toggleable__label sk-toggleable__label-arrow\">Pipeline</label><div class=\"sk-toggleable__content\"><pre>Pipeline(steps=[(&#x27;preprocessor&#x27;,\n",
       "                 ColumnTransformer(remainder=&#x27;passthrough&#x27;,\n",
       "                                   transformers=[(&#x27;num&#x27;,\n",
       "                                                  Pipeline(steps=[(&#x27;scaler&#x27;,\n",
       "                                                                   StandardScaler())]),\n",
       "                                                  [&#x27;Overall&#x27;, &#x27;Age&#x27;,\n",
       "                                                   &#x27;Height(in cm)&#x27;,\n",
       "                                                   &#x27;Weight(in kg)&#x27;,\n",
       "                                                   &#x27;Weak Foot Rating&#x27;,\n",
       "                                                   &#x27;Skill Moves&#x27;, &#x27;Pace Total&#x27;,\n",
       "                                                   &#x27;Shooting Total&#x27;,\n",
       "                                                   &#x27;Passing Total&#x27;,\n",
       "                                                   &#x27;Dribbling Total&#x27;,\n",
       "                                                   &#x27;Defending Total&#x27;,\n",
       "                                                   &#x27;Physicality Total&#x27;,\n",
       "                                                   &#x27;Crossing&#x27;, &#x27;Finishing&#x27;,\n",
       "                                                   &#x27;Heading Accur...\n",
       "                                                            monotone_constraints=None,\n",
       "                                                            n_estimators=100,\n",
       "                                                            n_jobs=None,\n",
       "                                                            num_parallel_tree=None,\n",
       "                                                            predictor=None,\n",
       "                                                            random_state=None, ...),\n",
       "                                    n_iter=5, n_jobs=-1,\n",
       "                                    param_distributions={&#x27;colsample_bytree&#x27;: [0.3,\n",
       "                                                                              0.4,\n",
       "                                                                              0.5,\n",
       "                                                                              0.7],\n",
       "                                                         &#x27;gamma&#x27;: [0.0, 0.1,\n",
       "                                                                   0.2, 0.3,\n",
       "                                                                   0.4],\n",
       "                                                         &#x27;learning_rate&#x27;: [0.05,\n",
       "                                                                           0.1,\n",
       "                                                                           0.15,\n",
       "                                                                           0.2,\n",
       "                                                                           0.25,\n",
       "                                                                           0.3],\n",
       "                                                         &#x27;max_depth&#x27;: [3, 4, 5,\n",
       "                                                                       6, 8, 10,\n",
       "                                                                       12, 15],\n",
       "                                                         &#x27;min_child_weight&#x27;: [1,\n",
       "                                                                              3,\n",
       "                                                                              5,\n",
       "                                                                              7]},\n",
       "                                    scoring=&#x27;roc_auc&#x27;, verbose=3))])</pre></div></div></div><div class=\"sk-serial\"><div class=\"sk-item sk-dashed-wrapped\"><div class=\"sk-label-container\"><div class=\"sk-label sk-toggleable\"><input class=\"sk-toggleable__control sk-hidden--visually\" id=\"sk-estimator-id-2\" type=\"checkbox\" ><label for=\"sk-estimator-id-2\" class=\"sk-toggleable__label sk-toggleable__label-arrow\">preprocessor: ColumnTransformer</label><div class=\"sk-toggleable__content\"><pre>ColumnTransformer(remainder=&#x27;passthrough&#x27;,\n",
       "                  transformers=[(&#x27;num&#x27;,\n",
       "                                 Pipeline(steps=[(&#x27;scaler&#x27;, StandardScaler())]),\n",
       "                                 [&#x27;Overall&#x27;, &#x27;Age&#x27;, &#x27;Height(in cm)&#x27;,\n",
       "                                  &#x27;Weight(in kg)&#x27;, &#x27;Weak Foot Rating&#x27;,\n",
       "                                  &#x27;Skill Moves&#x27;, &#x27;Pace Total&#x27;, &#x27;Shooting Total&#x27;,\n",
       "                                  &#x27;Passing Total&#x27;, &#x27;Dribbling Total&#x27;,\n",
       "                                  &#x27;Defending Total&#x27;, &#x27;Physicality Total&#x27;,\n",
       "                                  &#x27;Crossing&#x27;, &#x27;Finishing&#x27;, &#x27;Heading Accuracy&#x27;,\n",
       "                                  &#x27;Short Passing&#x27;, &#x27;Curve&#x27;, &#x27;Acceleration&#x27;,\n",
       "                                  &#x27;Agility&#x27;, &#x27;Reactions&#x27;, &#x27;Balance&#x27;,\n",
       "                                  &#x27;Shot Power&#x27;, &#x27;Jumping&#x27;, &#x27;Stamina&#x27;,\n",
       "                                  &#x27;Strength&#x27;, &#x27;Aggression&#x27;, &#x27;Vision&#x27;,\n",
       "                                  &#x27;Penalties&#x27;, &#x27;Composure&#x27;,\n",
       "                                  &#x27; GoalkeeperKicking&#x27;]),\n",
       "                                (&#x27;cat&#x27;,\n",
       "                                 Pipeline(steps=[(&#x27;onehot&#x27;,\n",
       "                                                  OneHotEncoder(handle_unknown=&#x27;ignore&#x27;))]),\n",
       "                                 [&#x27;Nationality&#x27;, &#x27;Preferred Foot&#x27;])])</pre></div></div></div><div class=\"sk-parallel\"><div class=\"sk-parallel-item\"><div class=\"sk-item\"><div class=\"sk-label-container\"><div class=\"sk-label sk-toggleable\"><input class=\"sk-toggleable__control sk-hidden--visually\" id=\"sk-estimator-id-3\" type=\"checkbox\" ><label for=\"sk-estimator-id-3\" class=\"sk-toggleable__label sk-toggleable__label-arrow\">num</label><div class=\"sk-toggleable__content\"><pre>[&#x27;Overall&#x27;, &#x27;Age&#x27;, &#x27;Height(in cm)&#x27;, &#x27;Weight(in kg)&#x27;, &#x27;Weak Foot Rating&#x27;, &#x27;Skill Moves&#x27;, &#x27;Pace Total&#x27;, &#x27;Shooting Total&#x27;, &#x27;Passing Total&#x27;, &#x27;Dribbling Total&#x27;, &#x27;Defending Total&#x27;, &#x27;Physicality Total&#x27;, &#x27;Crossing&#x27;, &#x27;Finishing&#x27;, &#x27;Heading Accuracy&#x27;, &#x27;Short Passing&#x27;, &#x27;Curve&#x27;, &#x27;Acceleration&#x27;, &#x27;Agility&#x27;, &#x27;Reactions&#x27;, &#x27;Balance&#x27;, &#x27;Shot Power&#x27;, &#x27;Jumping&#x27;, &#x27;Stamina&#x27;, &#x27;Strength&#x27;, &#x27;Aggression&#x27;, &#x27;Vision&#x27;, &#x27;Penalties&#x27;, &#x27;Composure&#x27;, &#x27; GoalkeeperKicking&#x27;]</pre></div></div></div><div class=\"sk-serial\"><div class=\"sk-item\"><div class=\"sk-serial\"><div class=\"sk-item\"><div class=\"sk-estimator sk-toggleable\"><input class=\"sk-toggleable__control sk-hidden--visually\" id=\"sk-estimator-id-4\" type=\"checkbox\" ><label for=\"sk-estimator-id-4\" class=\"sk-toggleable__label sk-toggleable__label-arrow\">StandardScaler</label><div class=\"sk-toggleable__content\"><pre>StandardScaler()</pre></div></div></div></div></div></div></div></div><div class=\"sk-parallel-item\"><div class=\"sk-item\"><div class=\"sk-label-container\"><div class=\"sk-label sk-toggleable\"><input class=\"sk-toggleable__control sk-hidden--visually\" id=\"sk-estimator-id-5\" type=\"checkbox\" ><label for=\"sk-estimator-id-5\" class=\"sk-toggleable__label sk-toggleable__label-arrow\">cat</label><div class=\"sk-toggleable__content\"><pre>[&#x27;Nationality&#x27;, &#x27;Preferred Foot&#x27;]</pre></div></div></div><div class=\"sk-serial\"><div class=\"sk-item\"><div class=\"sk-serial\"><div class=\"sk-item\"><div class=\"sk-estimator sk-toggleable\"><input class=\"sk-toggleable__control sk-hidden--visually\" id=\"sk-estimator-id-6\" type=\"checkbox\" ><label for=\"sk-estimator-id-6\" class=\"sk-toggleable__label sk-toggleable__label-arrow\">OneHotEncoder</label><div class=\"sk-toggleable__content\"><pre>OneHotEncoder(handle_unknown=&#x27;ignore&#x27;)</pre></div></div></div></div></div></div></div></div><div class=\"sk-parallel-item\"><div class=\"sk-item\"><div class=\"sk-label-container\"><div class=\"sk-label sk-toggleable\"><input class=\"sk-toggleable__control sk-hidden--visually\" id=\"sk-estimator-id-7\" type=\"checkbox\" ><label for=\"sk-estimator-id-7\" class=\"sk-toggleable__label sk-toggleable__label-arrow\">remainder</label><div class=\"sk-toggleable__content\"><pre>[]</pre></div></div></div><div class=\"sk-serial\"><div class=\"sk-item\"><div class=\"sk-estimator sk-toggleable\"><input class=\"sk-toggleable__control sk-hidden--visually\" id=\"sk-estimator-id-8\" type=\"checkbox\" ><label for=\"sk-estimator-id-8\" class=\"sk-toggleable__label sk-toggleable__label-arrow\">passthrough</label><div class=\"sk-toggleable__content\"><pre>passthrough</pre></div></div></div></div></div></div></div></div><div class=\"sk-item sk-dashed-wrapped\"><div class=\"sk-label-container\"><div class=\"sk-label sk-toggleable\"><input class=\"sk-toggleable__control sk-hidden--visually\" id=\"sk-estimator-id-9\" type=\"checkbox\" ><label for=\"sk-estimator-id-9\" class=\"sk-toggleable__label sk-toggleable__label-arrow\">tuning: RandomizedSearchCV</label><div class=\"sk-toggleable__content\"><pre>RandomizedSearchCV(cv=5,\n",
       "                   estimator=XGBClassifier(base_score=None, booster=None,\n",
       "                                           callbacks=None,\n",
       "                                           colsample_bylevel=None,\n",
       "                                           colsample_bynode=None,\n",
       "                                           colsample_bytree=None,\n",
       "                                           early_stopping_rounds=None,\n",
       "                                           enable_categorical=False,\n",
       "                                           eval_metric=None, feature_types=None,\n",
       "                                           gamma=None, gpu_id=None,\n",
       "                                           grow_policy=None,\n",
       "                                           importance_type=None,\n",
       "                                           interaction_constraints=None,\n",
       "                                           learning_rate...\n",
       "                                           monotone_constraints=None,\n",
       "                                           n_estimators=100, n_jobs=None,\n",
       "                                           num_parallel_tree=None,\n",
       "                                           predictor=None, random_state=None, ...),\n",
       "                   n_iter=5, n_jobs=-1,\n",
       "                   param_distributions={&#x27;colsample_bytree&#x27;: [0.3, 0.4, 0.5,\n",
       "                                                             0.7],\n",
       "                                        &#x27;gamma&#x27;: [0.0, 0.1, 0.2, 0.3, 0.4],\n",
       "                                        &#x27;learning_rate&#x27;: [0.05, 0.1, 0.15, 0.2,\n",
       "                                                          0.25, 0.3],\n",
       "                                        &#x27;max_depth&#x27;: [3, 4, 5, 6, 8, 10, 12,\n",
       "                                                      15],\n",
       "                                        &#x27;min_child_weight&#x27;: [1, 3, 5, 7]},\n",
       "                   scoring=&#x27;roc_auc&#x27;, verbose=3)</pre></div></div></div><div class=\"sk-parallel\"><div class=\"sk-parallel-item\"><div class=\"sk-item\"><div class=\"sk-label-container\"><div class=\"sk-label sk-toggleable\"><input class=\"sk-toggleable__control sk-hidden--visually\" id=\"sk-estimator-id-10\" type=\"checkbox\" ><label for=\"sk-estimator-id-10\" class=\"sk-toggleable__label sk-toggleable__label-arrow\">estimator: XGBClassifier</label><div class=\"sk-toggleable__content\"><pre>XGBClassifier(base_score=None, booster=None, callbacks=None,\n",
       "              colsample_bylevel=None, colsample_bynode=None,\n",
       "              colsample_bytree=None, early_stopping_rounds=None,\n",
       "              enable_categorical=False, eval_metric=None, feature_types=None,\n",
       "              gamma=None, gpu_id=None, grow_policy=None, importance_type=None,\n",
       "              interaction_constraints=None, learning_rate=None, max_bin=None,\n",
       "              max_cat_threshold=None, max_cat_to_onehot=None,\n",
       "              max_delta_step=None, max_depth=None, max_leaves=None,\n",
       "              min_child_weight=None, missing=nan, monotone_constraints=None,\n",
       "              n_estimators=100, n_jobs=None, num_parallel_tree=None,\n",
       "              predictor=None, random_state=None, ...)</pre></div></div></div><div class=\"sk-serial\"><div class=\"sk-item\"><div class=\"sk-estimator sk-toggleable\"><input class=\"sk-toggleable__control sk-hidden--visually\" id=\"sk-estimator-id-11\" type=\"checkbox\" ><label for=\"sk-estimator-id-11\" class=\"sk-toggleable__label sk-toggleable__label-arrow\">XGBClassifier</label><div class=\"sk-toggleable__content\"><pre>XGBClassifier(base_score=None, booster=None, callbacks=None,\n",
       "              colsample_bylevel=None, colsample_bynode=None,\n",
       "              colsample_bytree=None, early_stopping_rounds=None,\n",
       "              enable_categorical=False, eval_metric=None, feature_types=None,\n",
       "              gamma=None, gpu_id=None, grow_policy=None, importance_type=None,\n",
       "              interaction_constraints=None, learning_rate=None, max_bin=None,\n",
       "              max_cat_threshold=None, max_cat_to_onehot=None,\n",
       "              max_delta_step=None, max_depth=None, max_leaves=None,\n",
       "              min_child_weight=None, missing=nan, monotone_constraints=None,\n",
       "              n_estimators=100, n_jobs=None, num_parallel_tree=None,\n",
       "              predictor=None, random_state=None, ...)</pre></div></div></div></div></div></div></div></div></div></div></div></div>"
      ],
      "text/plain": [
       "Pipeline(steps=[('preprocessor',\n",
       "                 ColumnTransformer(remainder='passthrough',\n",
       "                                   transformers=[('num',\n",
       "                                                  Pipeline(steps=[('scaler',\n",
       "                                                                   StandardScaler())]),\n",
       "                                                  ['Overall', 'Age',\n",
       "                                                   'Height(in cm)',\n",
       "                                                   'Weight(in kg)',\n",
       "                                                   'Weak Foot Rating',\n",
       "                                                   'Skill Moves', 'Pace Total',\n",
       "                                                   'Shooting Total',\n",
       "                                                   'Passing Total',\n",
       "                                                   'Dribbling Total',\n",
       "                                                   'Defending Total',\n",
       "                                                   'Physicality Total',\n",
       "                                                   'Crossing', 'Finishing',\n",
       "                                                   'Heading Accur...\n",
       "                                                            monotone_constraints=None,\n",
       "                                                            n_estimators=100,\n",
       "                                                            n_jobs=None,\n",
       "                                                            num_parallel_tree=None,\n",
       "                                                            predictor=None,\n",
       "                                                            random_state=None, ...),\n",
       "                                    n_iter=5, n_jobs=-1,\n",
       "                                    param_distributions={'colsample_bytree': [0.3,\n",
       "                                                                              0.4,\n",
       "                                                                              0.5,\n",
       "                                                                              0.7],\n",
       "                                                         'gamma': [0.0, 0.1,\n",
       "                                                                   0.2, 0.3,\n",
       "                                                                   0.4],\n",
       "                                                         'learning_rate': [0.05,\n",
       "                                                                           0.1,\n",
       "                                                                           0.15,\n",
       "                                                                           0.2,\n",
       "                                                                           0.25,\n",
       "                                                                           0.3],\n",
       "                                                         'max_depth': [3, 4, 5,\n",
       "                                                                       6, 8, 10,\n",
       "                                                                       12, 15],\n",
       "                                                         'min_child_weight': [1,\n",
       "                                                                              3,\n",
       "                                                                              5,\n",
       "                                                                              7]},\n",
       "                                    scoring='roc_auc', verbose=3))])"
      ]
     },
     "execution_count": 33,
     "metadata": {},
     "output_type": "execute_result"
    }
   ],
   "source": [
    "classifier=XGBClassifier()\n",
    "random_search=RandomizedSearchCV(classifier,param_distributions=params,n_iter=5,scoring='roc_auc',n_jobs=-1,cv=5,verbose=3)\n",
    "boss_tuning = ImblearnPipeline([\n",
    "    ('preprocessor', preprocessor),\n",
    "    ('tuning', random_search)\n",
    "])\n",
    "boss_tuning.fit(X_train,y_train)"
   ]
  },
  {
   "cell_type": "code",
   "execution_count": 34,
   "id": "91affa0f",
   "metadata": {},
   "outputs": [
    {
     "data": {
      "text/html": [
       "<style>#sk-container-id-2 {color: black;}#sk-container-id-2 pre{padding: 0;}#sk-container-id-2 div.sk-toggleable {background-color: white;}#sk-container-id-2 label.sk-toggleable__label {cursor: pointer;display: block;width: 100%;margin-bottom: 0;padding: 0.3em;box-sizing: border-box;text-align: center;}#sk-container-id-2 label.sk-toggleable__label-arrow:before {content: \"▸\";float: left;margin-right: 0.25em;color: #696969;}#sk-container-id-2 label.sk-toggleable__label-arrow:hover:before {color: black;}#sk-container-id-2 div.sk-estimator:hover label.sk-toggleable__label-arrow:before {color: black;}#sk-container-id-2 div.sk-toggleable__content {max-height: 0;max-width: 0;overflow: hidden;text-align: left;background-color: #f0f8ff;}#sk-container-id-2 div.sk-toggleable__content pre {margin: 0.2em;color: black;border-radius: 0.25em;background-color: #f0f8ff;}#sk-container-id-2 input.sk-toggleable__control:checked~div.sk-toggleable__content {max-height: 200px;max-width: 100%;overflow: auto;}#sk-container-id-2 input.sk-toggleable__control:checked~label.sk-toggleable__label-arrow:before {content: \"▾\";}#sk-container-id-2 div.sk-estimator input.sk-toggleable__control:checked~label.sk-toggleable__label {background-color: #d4ebff;}#sk-container-id-2 div.sk-label input.sk-toggleable__control:checked~label.sk-toggleable__label {background-color: #d4ebff;}#sk-container-id-2 input.sk-hidden--visually {border: 0;clip: rect(1px 1px 1px 1px);clip: rect(1px, 1px, 1px, 1px);height: 1px;margin: -1px;overflow: hidden;padding: 0;position: absolute;width: 1px;}#sk-container-id-2 div.sk-estimator {font-family: monospace;background-color: #f0f8ff;border: 1px dotted black;border-radius: 0.25em;box-sizing: border-box;margin-bottom: 0.5em;}#sk-container-id-2 div.sk-estimator:hover {background-color: #d4ebff;}#sk-container-id-2 div.sk-parallel-item::after {content: \"\";width: 100%;border-bottom: 1px solid gray;flex-grow: 1;}#sk-container-id-2 div.sk-label:hover label.sk-toggleable__label {background-color: #d4ebff;}#sk-container-id-2 div.sk-serial::before {content: \"\";position: absolute;border-left: 1px solid gray;box-sizing: border-box;top: 0;bottom: 0;left: 50%;z-index: 0;}#sk-container-id-2 div.sk-serial {display: flex;flex-direction: column;align-items: center;background-color: white;padding-right: 0.2em;padding-left: 0.2em;position: relative;}#sk-container-id-2 div.sk-item {position: relative;z-index: 1;}#sk-container-id-2 div.sk-parallel {display: flex;align-items: stretch;justify-content: center;background-color: white;position: relative;}#sk-container-id-2 div.sk-item::before, #sk-container-id-2 div.sk-parallel-item::before {content: \"\";position: absolute;border-left: 1px solid gray;box-sizing: border-box;top: 0;bottom: 0;left: 50%;z-index: -1;}#sk-container-id-2 div.sk-parallel-item {display: flex;flex-direction: column;z-index: 1;position: relative;background-color: white;}#sk-container-id-2 div.sk-parallel-item:first-child::after {align-self: flex-end;width: 50%;}#sk-container-id-2 div.sk-parallel-item:last-child::after {align-self: flex-start;width: 50%;}#sk-container-id-2 div.sk-parallel-item:only-child::after {width: 0;}#sk-container-id-2 div.sk-dashed-wrapped {border: 1px dashed gray;margin: 0 0.4em 0.5em 0.4em;box-sizing: border-box;padding-bottom: 0.4em;background-color: white;}#sk-container-id-2 div.sk-label label {font-family: monospace;font-weight: bold;display: inline-block;line-height: 1.2em;}#sk-container-id-2 div.sk-label-container {text-align: center;}#sk-container-id-2 div.sk-container {/* jupyter's `normalize.less` sets `[hidden] { display: none; }` but bootstrap.min.css set `[hidden] { display: none !important; }` so we also need the `!important` here to be able to override the default hidden behavior on the sphinx rendered scikit-learn.org. See: https://github.com/scikit-learn/scikit-learn/issues/21755 */display: inline-block !important;position: relative;}#sk-container-id-2 div.sk-text-repr-fallback {display: none;}</style><div id=\"sk-container-id-2\" class=\"sk-top-container\"><div class=\"sk-text-repr-fallback\"><pre>XGBClassifier(base_score=None, booster=None, callbacks=None,\n",
       "              colsample_bylevel=None, colsample_bynode=None,\n",
       "              colsample_bytree=0.4, early_stopping_rounds=None,\n",
       "              enable_categorical=False, eval_metric=None, feature_types=None,\n",
       "              gamma=0.4, gpu_id=None, grow_policy=None, importance_type=None,\n",
       "              interaction_constraints=None, learning_rate=0.15, max_bin=None,\n",
       "              max_cat_threshold=None, max_cat_to_onehot=None,\n",
       "              max_delta_step=None, max_depth=4, max_leaves=None,\n",
       "              min_child_weight=1, missing=nan, monotone_constraints=None,\n",
       "              n_estimators=100, n_jobs=None, num_parallel_tree=None,\n",
       "              objective=&#x27;multi:softprob&#x27;, predictor=None, ...)</pre><b>In a Jupyter environment, please rerun this cell to show the HTML representation or trust the notebook. <br />On GitHub, the HTML representation is unable to render, please try loading this page with nbviewer.org.</b></div><div class=\"sk-container\" hidden><div class=\"sk-item\"><div class=\"sk-estimator sk-toggleable\"><input class=\"sk-toggleable__control sk-hidden--visually\" id=\"sk-estimator-id-12\" type=\"checkbox\" checked><label for=\"sk-estimator-id-12\" class=\"sk-toggleable__label sk-toggleable__label-arrow\">XGBClassifier</label><div class=\"sk-toggleable__content\"><pre>XGBClassifier(base_score=None, booster=None, callbacks=None,\n",
       "              colsample_bylevel=None, colsample_bynode=None,\n",
       "              colsample_bytree=0.4, early_stopping_rounds=None,\n",
       "              enable_categorical=False, eval_metric=None, feature_types=None,\n",
       "              gamma=0.4, gpu_id=None, grow_policy=None, importance_type=None,\n",
       "              interaction_constraints=None, learning_rate=0.15, max_bin=None,\n",
       "              max_cat_threshold=None, max_cat_to_onehot=None,\n",
       "              max_delta_step=None, max_depth=4, max_leaves=None,\n",
       "              min_child_weight=1, missing=nan, monotone_constraints=None,\n",
       "              n_estimators=100, n_jobs=None, num_parallel_tree=None,\n",
       "              objective=&#x27;multi:softprob&#x27;, predictor=None, ...)</pre></div></div></div></div></div>"
      ],
      "text/plain": [
       "XGBClassifier(base_score=None, booster=None, callbacks=None,\n",
       "              colsample_bylevel=None, colsample_bynode=None,\n",
       "              colsample_bytree=0.4, early_stopping_rounds=None,\n",
       "              enable_categorical=False, eval_metric=None, feature_types=None,\n",
       "              gamma=0.4, gpu_id=None, grow_policy=None, importance_type=None,\n",
       "              interaction_constraints=None, learning_rate=0.15, max_bin=None,\n",
       "              max_cat_threshold=None, max_cat_to_onehot=None,\n",
       "              max_delta_step=None, max_depth=4, max_leaves=None,\n",
       "              min_child_weight=1, missing=nan, monotone_constraints=None,\n",
       "              n_estimators=100, n_jobs=None, num_parallel_tree=None,\n",
       "              objective='multi:softprob', predictor=None, ...)"
      ]
     },
     "execution_count": 34,
     "metadata": {},
     "output_type": "execute_result"
    }
   ],
   "source": [
    "random_search.best_estimator_"
   ]
  },
  {
   "cell_type": "code",
   "execution_count": 35,
   "id": "f0755c8c",
   "metadata": {},
   "outputs": [
    {
     "data": {
      "text/plain": [
       "{'min_child_weight': 1,\n",
       " 'max_depth': 4,\n",
       " 'learning_rate': 0.15,\n",
       " 'gamma': 0.4,\n",
       " 'colsample_bytree': 0.4}"
      ]
     },
     "execution_count": 35,
     "metadata": {},
     "output_type": "execute_result"
    }
   ],
   "source": [
    "random_search.best_params_"
   ]
  },
  {
   "cell_type": "code",
   "execution_count": 36,
   "id": "531e973d",
   "metadata": {},
   "outputs": [
    {
     "data": {
      "text/html": [
       "<style>#sk-container-id-3 {color: black;}#sk-container-id-3 pre{padding: 0;}#sk-container-id-3 div.sk-toggleable {background-color: white;}#sk-container-id-3 label.sk-toggleable__label {cursor: pointer;display: block;width: 100%;margin-bottom: 0;padding: 0.3em;box-sizing: border-box;text-align: center;}#sk-container-id-3 label.sk-toggleable__label-arrow:before {content: \"▸\";float: left;margin-right: 0.25em;color: #696969;}#sk-container-id-3 label.sk-toggleable__label-arrow:hover:before {color: black;}#sk-container-id-3 div.sk-estimator:hover label.sk-toggleable__label-arrow:before {color: black;}#sk-container-id-3 div.sk-toggleable__content {max-height: 0;max-width: 0;overflow: hidden;text-align: left;background-color: #f0f8ff;}#sk-container-id-3 div.sk-toggleable__content pre {margin: 0.2em;color: black;border-radius: 0.25em;background-color: #f0f8ff;}#sk-container-id-3 input.sk-toggleable__control:checked~div.sk-toggleable__content {max-height: 200px;max-width: 100%;overflow: auto;}#sk-container-id-3 input.sk-toggleable__control:checked~label.sk-toggleable__label-arrow:before {content: \"▾\";}#sk-container-id-3 div.sk-estimator input.sk-toggleable__control:checked~label.sk-toggleable__label {background-color: #d4ebff;}#sk-container-id-3 div.sk-label input.sk-toggleable__control:checked~label.sk-toggleable__label {background-color: #d4ebff;}#sk-container-id-3 input.sk-hidden--visually {border: 0;clip: rect(1px 1px 1px 1px);clip: rect(1px, 1px, 1px, 1px);height: 1px;margin: -1px;overflow: hidden;padding: 0;position: absolute;width: 1px;}#sk-container-id-3 div.sk-estimator {font-family: monospace;background-color: #f0f8ff;border: 1px dotted black;border-radius: 0.25em;box-sizing: border-box;margin-bottom: 0.5em;}#sk-container-id-3 div.sk-estimator:hover {background-color: #d4ebff;}#sk-container-id-3 div.sk-parallel-item::after {content: \"\";width: 100%;border-bottom: 1px solid gray;flex-grow: 1;}#sk-container-id-3 div.sk-label:hover label.sk-toggleable__label {background-color: #d4ebff;}#sk-container-id-3 div.sk-serial::before {content: \"\";position: absolute;border-left: 1px solid gray;box-sizing: border-box;top: 0;bottom: 0;left: 50%;z-index: 0;}#sk-container-id-3 div.sk-serial {display: flex;flex-direction: column;align-items: center;background-color: white;padding-right: 0.2em;padding-left: 0.2em;position: relative;}#sk-container-id-3 div.sk-item {position: relative;z-index: 1;}#sk-container-id-3 div.sk-parallel {display: flex;align-items: stretch;justify-content: center;background-color: white;position: relative;}#sk-container-id-3 div.sk-item::before, #sk-container-id-3 div.sk-parallel-item::before {content: \"\";position: absolute;border-left: 1px solid gray;box-sizing: border-box;top: 0;bottom: 0;left: 50%;z-index: -1;}#sk-container-id-3 div.sk-parallel-item {display: flex;flex-direction: column;z-index: 1;position: relative;background-color: white;}#sk-container-id-3 div.sk-parallel-item:first-child::after {align-self: flex-end;width: 50%;}#sk-container-id-3 div.sk-parallel-item:last-child::after {align-self: flex-start;width: 50%;}#sk-container-id-3 div.sk-parallel-item:only-child::after {width: 0;}#sk-container-id-3 div.sk-dashed-wrapped {border: 1px dashed gray;margin: 0 0.4em 0.5em 0.4em;box-sizing: border-box;padding-bottom: 0.4em;background-color: white;}#sk-container-id-3 div.sk-label label {font-family: monospace;font-weight: bold;display: inline-block;line-height: 1.2em;}#sk-container-id-3 div.sk-label-container {text-align: center;}#sk-container-id-3 div.sk-container {/* jupyter's `normalize.less` sets `[hidden] { display: none; }` but bootstrap.min.css set `[hidden] { display: none !important; }` so we also need the `!important` here to be able to override the default hidden behavior on the sphinx rendered scikit-learn.org. See: https://github.com/scikit-learn/scikit-learn/issues/21755 */display: inline-block !important;position: relative;}#sk-container-id-3 div.sk-text-repr-fallback {display: none;}</style><div id=\"sk-container-id-3\" class=\"sk-top-container\"><div class=\"sk-text-repr-fallback\"><pre>Pipeline(steps=[(&#x27;preprocessor&#x27;,\n",
       "                 ColumnTransformer(remainder=&#x27;passthrough&#x27;,\n",
       "                                   transformers=[(&#x27;num&#x27;,\n",
       "                                                  Pipeline(steps=[(&#x27;scaler&#x27;,\n",
       "                                                                   StandardScaler())]),\n",
       "                                                  [&#x27;Overall&#x27;, &#x27;Age&#x27;,\n",
       "                                                   &#x27;Height(in cm)&#x27;,\n",
       "                                                   &#x27;Weight(in kg)&#x27;,\n",
       "                                                   &#x27;Weak Foot Rating&#x27;,\n",
       "                                                   &#x27;Skill Moves&#x27;, &#x27;Pace Total&#x27;,\n",
       "                                                   &#x27;Shooting Total&#x27;,\n",
       "                                                   &#x27;Passing Total&#x27;,\n",
       "                                                   &#x27;Dribbling Total&#x27;,\n",
       "                                                   &#x27;Defending Total&#x27;,\n",
       "                                                   &#x27;Physicality Total&#x27;,\n",
       "                                                   &#x27;Crossing&#x27;, &#x27;Finishing&#x27;,\n",
       "                                                   &#x27;Heading Accur...\n",
       "                               grow_policy=None, importance_type=None,\n",
       "                               interaction_constraints=None, learning_rate=0.1,\n",
       "                               max_bin=None, max_cat_threshold=None,\n",
       "                               max_cat_to_onehot=None, max_delta_step=None,\n",
       "                               max_depth=10, max_leaves=None,\n",
       "                               min_child_weight=7, missing=nan,\n",
       "                               monotone_constraints=None, n_estimators=100,\n",
       "                               n_jobs=None, num_parallel_tree=None,\n",
       "                               objective=&#x27;multi:softprob&#x27;, predictor=None, ...))])</pre><b>In a Jupyter environment, please rerun this cell to show the HTML representation or trust the notebook. <br />On GitHub, the HTML representation is unable to render, please try loading this page with nbviewer.org.</b></div><div class=\"sk-container\" hidden><div class=\"sk-item sk-dashed-wrapped\"><div class=\"sk-label-container\"><div class=\"sk-label sk-toggleable\"><input class=\"sk-toggleable__control sk-hidden--visually\" id=\"sk-estimator-id-13\" type=\"checkbox\" ><label for=\"sk-estimator-id-13\" class=\"sk-toggleable__label sk-toggleable__label-arrow\">Pipeline</label><div class=\"sk-toggleable__content\"><pre>Pipeline(steps=[(&#x27;preprocessor&#x27;,\n",
       "                 ColumnTransformer(remainder=&#x27;passthrough&#x27;,\n",
       "                                   transformers=[(&#x27;num&#x27;,\n",
       "                                                  Pipeline(steps=[(&#x27;scaler&#x27;,\n",
       "                                                                   StandardScaler())]),\n",
       "                                                  [&#x27;Overall&#x27;, &#x27;Age&#x27;,\n",
       "                                                   &#x27;Height(in cm)&#x27;,\n",
       "                                                   &#x27;Weight(in kg)&#x27;,\n",
       "                                                   &#x27;Weak Foot Rating&#x27;,\n",
       "                                                   &#x27;Skill Moves&#x27;, &#x27;Pace Total&#x27;,\n",
       "                                                   &#x27;Shooting Total&#x27;,\n",
       "                                                   &#x27;Passing Total&#x27;,\n",
       "                                                   &#x27;Dribbling Total&#x27;,\n",
       "                                                   &#x27;Defending Total&#x27;,\n",
       "                                                   &#x27;Physicality Total&#x27;,\n",
       "                                                   &#x27;Crossing&#x27;, &#x27;Finishing&#x27;,\n",
       "                                                   &#x27;Heading Accur...\n",
       "                               grow_policy=None, importance_type=None,\n",
       "                               interaction_constraints=None, learning_rate=0.1,\n",
       "                               max_bin=None, max_cat_threshold=None,\n",
       "                               max_cat_to_onehot=None, max_delta_step=None,\n",
       "                               max_depth=10, max_leaves=None,\n",
       "                               min_child_weight=7, missing=nan,\n",
       "                               monotone_constraints=None, n_estimators=100,\n",
       "                               n_jobs=None, num_parallel_tree=None,\n",
       "                               objective=&#x27;multi:softprob&#x27;, predictor=None, ...))])</pre></div></div></div><div class=\"sk-serial\"><div class=\"sk-item sk-dashed-wrapped\"><div class=\"sk-label-container\"><div class=\"sk-label sk-toggleable\"><input class=\"sk-toggleable__control sk-hidden--visually\" id=\"sk-estimator-id-14\" type=\"checkbox\" ><label for=\"sk-estimator-id-14\" class=\"sk-toggleable__label sk-toggleable__label-arrow\">preprocessor: ColumnTransformer</label><div class=\"sk-toggleable__content\"><pre>ColumnTransformer(remainder=&#x27;passthrough&#x27;,\n",
       "                  transformers=[(&#x27;num&#x27;,\n",
       "                                 Pipeline(steps=[(&#x27;scaler&#x27;, StandardScaler())]),\n",
       "                                 [&#x27;Overall&#x27;, &#x27;Age&#x27;, &#x27;Height(in cm)&#x27;,\n",
       "                                  &#x27;Weight(in kg)&#x27;, &#x27;Weak Foot Rating&#x27;,\n",
       "                                  &#x27;Skill Moves&#x27;, &#x27;Pace Total&#x27;, &#x27;Shooting Total&#x27;,\n",
       "                                  &#x27;Passing Total&#x27;, &#x27;Dribbling Total&#x27;,\n",
       "                                  &#x27;Defending Total&#x27;, &#x27;Physicality Total&#x27;,\n",
       "                                  &#x27;Crossing&#x27;, &#x27;Finishing&#x27;, &#x27;Heading Accuracy&#x27;,\n",
       "                                  &#x27;Short Passing&#x27;, &#x27;Curve&#x27;, &#x27;Acceleration&#x27;,\n",
       "                                  &#x27;Agility&#x27;, &#x27;Reactions&#x27;, &#x27;Balance&#x27;,\n",
       "                                  &#x27;Shot Power&#x27;, &#x27;Jumping&#x27;, &#x27;Stamina&#x27;,\n",
       "                                  &#x27;Strength&#x27;, &#x27;Aggression&#x27;, &#x27;Vision&#x27;,\n",
       "                                  &#x27;Penalties&#x27;, &#x27;Composure&#x27;,\n",
       "                                  &#x27; GoalkeeperKicking&#x27;]),\n",
       "                                (&#x27;cat&#x27;,\n",
       "                                 Pipeline(steps=[(&#x27;onehot&#x27;,\n",
       "                                                  OneHotEncoder(handle_unknown=&#x27;ignore&#x27;))]),\n",
       "                                 [&#x27;Nationality&#x27;, &#x27;Preferred Foot&#x27;])])</pre></div></div></div><div class=\"sk-parallel\"><div class=\"sk-parallel-item\"><div class=\"sk-item\"><div class=\"sk-label-container\"><div class=\"sk-label sk-toggleable\"><input class=\"sk-toggleable__control sk-hidden--visually\" id=\"sk-estimator-id-15\" type=\"checkbox\" ><label for=\"sk-estimator-id-15\" class=\"sk-toggleable__label sk-toggleable__label-arrow\">num</label><div class=\"sk-toggleable__content\"><pre>[&#x27;Overall&#x27;, &#x27;Age&#x27;, &#x27;Height(in cm)&#x27;, &#x27;Weight(in kg)&#x27;, &#x27;Weak Foot Rating&#x27;, &#x27;Skill Moves&#x27;, &#x27;Pace Total&#x27;, &#x27;Shooting Total&#x27;, &#x27;Passing Total&#x27;, &#x27;Dribbling Total&#x27;, &#x27;Defending Total&#x27;, &#x27;Physicality Total&#x27;, &#x27;Crossing&#x27;, &#x27;Finishing&#x27;, &#x27;Heading Accuracy&#x27;, &#x27;Short Passing&#x27;, &#x27;Curve&#x27;, &#x27;Acceleration&#x27;, &#x27;Agility&#x27;, &#x27;Reactions&#x27;, &#x27;Balance&#x27;, &#x27;Shot Power&#x27;, &#x27;Jumping&#x27;, &#x27;Stamina&#x27;, &#x27;Strength&#x27;, &#x27;Aggression&#x27;, &#x27;Vision&#x27;, &#x27;Penalties&#x27;, &#x27;Composure&#x27;, &#x27; GoalkeeperKicking&#x27;]</pre></div></div></div><div class=\"sk-serial\"><div class=\"sk-item\"><div class=\"sk-serial\"><div class=\"sk-item\"><div class=\"sk-estimator sk-toggleable\"><input class=\"sk-toggleable__control sk-hidden--visually\" id=\"sk-estimator-id-16\" type=\"checkbox\" ><label for=\"sk-estimator-id-16\" class=\"sk-toggleable__label sk-toggleable__label-arrow\">StandardScaler</label><div class=\"sk-toggleable__content\"><pre>StandardScaler()</pre></div></div></div></div></div></div></div></div><div class=\"sk-parallel-item\"><div class=\"sk-item\"><div class=\"sk-label-container\"><div class=\"sk-label sk-toggleable\"><input class=\"sk-toggleable__control sk-hidden--visually\" id=\"sk-estimator-id-17\" type=\"checkbox\" ><label for=\"sk-estimator-id-17\" class=\"sk-toggleable__label sk-toggleable__label-arrow\">cat</label><div class=\"sk-toggleable__content\"><pre>[&#x27;Nationality&#x27;, &#x27;Preferred Foot&#x27;]</pre></div></div></div><div class=\"sk-serial\"><div class=\"sk-item\"><div class=\"sk-serial\"><div class=\"sk-item\"><div class=\"sk-estimator sk-toggleable\"><input class=\"sk-toggleable__control sk-hidden--visually\" id=\"sk-estimator-id-18\" type=\"checkbox\" ><label for=\"sk-estimator-id-18\" class=\"sk-toggleable__label sk-toggleable__label-arrow\">OneHotEncoder</label><div class=\"sk-toggleable__content\"><pre>OneHotEncoder(handle_unknown=&#x27;ignore&#x27;)</pre></div></div></div></div></div></div></div></div><div class=\"sk-parallel-item\"><div class=\"sk-item\"><div class=\"sk-label-container\"><div class=\"sk-label sk-toggleable\"><input class=\"sk-toggleable__control sk-hidden--visually\" id=\"sk-estimator-id-19\" type=\"checkbox\" ><label for=\"sk-estimator-id-19\" class=\"sk-toggleable__label sk-toggleable__label-arrow\">remainder</label><div class=\"sk-toggleable__content\"><pre>[]</pre></div></div></div><div class=\"sk-serial\"><div class=\"sk-item\"><div class=\"sk-estimator sk-toggleable\"><input class=\"sk-toggleable__control sk-hidden--visually\" id=\"sk-estimator-id-20\" type=\"checkbox\" ><label for=\"sk-estimator-id-20\" class=\"sk-toggleable__label sk-toggleable__label-arrow\">passthrough</label><div class=\"sk-toggleable__content\"><pre>passthrough</pre></div></div></div></div></div></div></div></div><div class=\"sk-item\"><div class=\"sk-estimator sk-toggleable\"><input class=\"sk-toggleable__control sk-hidden--visually\" id=\"sk-estimator-id-21\" type=\"checkbox\" ><label for=\"sk-estimator-id-21\" class=\"sk-toggleable__label sk-toggleable__label-arrow\">XGBClassifier</label><div class=\"sk-toggleable__content\"><pre>XGBClassifier(base_score=None, booster=None, callbacks=None,\n",
       "              colsample_bylevel=None, colsample_bynode=None,\n",
       "              colsample_bytree=0.5, early_stopping_rounds=None,\n",
       "              enable_categorical=False, eval_metric=None, feature_types=None,\n",
       "              gamma=0.0, gpu_id=None, grow_policy=None, importance_type=None,\n",
       "              interaction_constraints=None, learning_rate=0.1, max_bin=None,\n",
       "              max_cat_threshold=None, max_cat_to_onehot=None,\n",
       "              max_delta_step=None, max_depth=10, max_leaves=None,\n",
       "              min_child_weight=7, missing=nan, monotone_constraints=None,\n",
       "              n_estimators=100, n_jobs=None, num_parallel_tree=None,\n",
       "              objective=&#x27;multi:softprob&#x27;, predictor=None, ...)</pre></div></div></div></div></div></div></div>"
      ],
      "text/plain": [
       "Pipeline(steps=[('preprocessor',\n",
       "                 ColumnTransformer(remainder='passthrough',\n",
       "                                   transformers=[('num',\n",
       "                                                  Pipeline(steps=[('scaler',\n",
       "                                                                   StandardScaler())]),\n",
       "                                                  ['Overall', 'Age',\n",
       "                                                   'Height(in cm)',\n",
       "                                                   'Weight(in kg)',\n",
       "                                                   'Weak Foot Rating',\n",
       "                                                   'Skill Moves', 'Pace Total',\n",
       "                                                   'Shooting Total',\n",
       "                                                   'Passing Total',\n",
       "                                                   'Dribbling Total',\n",
       "                                                   'Defending Total',\n",
       "                                                   'Physicality Total',\n",
       "                                                   'Crossing', 'Finishing',\n",
       "                                                   'Heading Accur...\n",
       "                               grow_policy=None, importance_type=None,\n",
       "                               interaction_constraints=None, learning_rate=0.1,\n",
       "                               max_bin=None, max_cat_threshold=None,\n",
       "                               max_cat_to_onehot=None, max_delta_step=None,\n",
       "                               max_depth=10, max_leaves=None,\n",
       "                               min_child_weight=7, missing=nan,\n",
       "                               monotone_constraints=None, n_estimators=100,\n",
       "                               n_jobs=None, num_parallel_tree=None,\n",
       "                               objective='multi:softprob', predictor=None, ...))])"
      ]
     },
     "execution_count": 36,
     "metadata": {},
     "output_type": "execute_result"
    }
   ],
   "source": [
    "main_model= XGBClassifier(base_score=None, booster=None, callbacks=None,\n",
    "              colsample_bylevel=None, colsample_bynode=None,\n",
    "              colsample_bytree=0.5, early_stopping_rounds=None,\n",
    "              enable_categorical=False, eval_metric=None, feature_types=None,\n",
    "              gamma=0.0, gpu_id=None, grow_policy=None, importance_type=None,\n",
    "              interaction_constraints=None, learning_rate=0.1, max_bin=None,\n",
    "              max_cat_threshold=None, max_cat_to_onehot=None,\n",
    "              max_delta_step=None, max_depth=10, max_leaves=None,\n",
    "              min_child_weight=7, monotone_constraints=None,\n",
    "              n_estimators=100, n_jobs=None, num_parallel_tree=None,\n",
    "              predictor=None, random_state=None)\n",
    "boss_model = ImblearnPipeline([\n",
    "    ('preprocessor', preprocessor),\n",
    "    ('classifier', main_model)\n",
    "])\n",
    "\n",
    "boss_model.fit(X_train, y_train)"
   ]
  },
  {
   "cell_type": "code",
   "execution_count": 39,
   "id": "eea34a31",
   "metadata": {},
   "outputs": [
    {
     "name": "stdout",
     "output_type": "stream",
     "text": [
      "Accuracy: 0.9241280115066522\n",
      "Precision: 0.9249930140653875\n",
      "Recall: 0.9241280115066522\n",
      "F1 Score: 0.9239852564001434\n",
      "Confusion Matrix:\n",
      "[[1897   90   68    0]\n",
      " [ 102 1763    1    0]\n",
      " [ 159    2  825    0]\n",
      " [   0    0    0  655]]\n"
     ]
    }
   ],
   "source": [
    "from sklearn.metrics import accuracy_score, precision_score, recall_score, f1_score, confusion_matrix\n",
    "y_pred = boss_model.predict(X_test)\n",
    "\n",
    "# Calculate accuracy\n",
    "accuracy = accuracy_score(y_test, y_pred)\n",
    "print(f\"Accuracy: {accuracy}\")\n",
    "\n",
    "# Calculate precision\n",
    "precision = precision_score(y_test, y_pred, average = 'weighted')\n",
    "print(f\"Precision: {precision}\")\n",
    "\n",
    "# Calculate recall\n",
    "recall = recall_score(y_test, y_pred, average = 'weighted')\n",
    "print(f\"Recall: {recall}\")\n",
    "\n",
    "# Calculate F1-score\n",
    "f1 = f1_score(y_test, y_pred, average = 'weighted')\n",
    "print(f\"F1 Score: {f1}\")\n",
    "\n",
    "# Calculate confusion matrix\n",
    "conf_matrix = confusion_matrix(y_test, y_pred)\n",
    "print(f\"Confusion Matrix:\\n{conf_matrix}\")\n"
   ]
  },
  {
   "cell_type": "markdown",
   "id": "e5a70b20",
   "metadata": {},
   "source": [
    "## Saving My Model"
   ]
  },
  {
   "cell_type": "code",
   "execution_count": 40,
   "id": "f18fd401",
   "metadata": {},
   "outputs": [],
   "source": [
    "#Importing necessary models for saving model\n",
    "import joblib"
   ]
  },
  {
   "cell_type": "code",
   "execution_count": 41,
   "id": "fa2a90d9",
   "metadata": {},
   "outputs": [
    {
     "data": {
      "text/plain": [
       "['player_pred.joblib']"
      ]
     },
     "execution_count": 41,
     "metadata": {},
     "output_type": "execute_result"
    }
   ],
   "source": [
    "joblib.dump(boss_model, 'player_pred.joblib')"
   ]
  },
  {
   "cell_type": "code",
   "execution_count": 42,
   "id": "bbb48fd3",
   "metadata": {},
   "outputs": [],
   "source": [
    "player_position = joblib.load('player_pred.joblib')"
   ]
  },
  {
   "cell_type": "markdown",
   "id": "548101a6",
   "metadata": {},
   "source": [
    "## Testing my saved Model"
   ]
  },
  {
   "cell_type": "code",
   "execution_count": 106,
   "id": "5edea200",
   "metadata": {},
   "outputs": [
    {
     "data": {
      "text/plain": [
       "32"
      ]
     },
     "execution_count": 106,
     "metadata": {},
     "output_type": "execute_result"
    }
   ],
   "source": [
    "\n",
    "testing = [91,34,185,81,4,4,80,88,83,87,39,78,75,92,90,89,82,79,78,92,72,87,79,82,82,63,89,84,90,5, 'France', 'Right']\n",
    "len(testing)"
   ]
  },
  {
   "cell_type": "code",
   "execution_count": 107,
   "id": "fa468dae",
   "metadata": {},
   "outputs": [],
   "source": [
    "test_arr = np.array(testing)\n",
    "re = test_arr.reshape(1, -1)\n",
    "stats = pd.DataFrame(re, columns = X.columns)"
   ]
  },
  {
   "cell_type": "code",
   "execution_count": 108,
   "id": "031cdb7d",
   "metadata": {},
   "outputs": [
    {
     "data": {
      "text/plain": [
       "array([2], dtype=int64)"
      ]
     },
     "execution_count": 108,
     "metadata": {},
     "output_type": "execute_result"
    }
   ],
   "source": [
    "player_position.predict(stats)"
   ]
  },
  {
   "cell_type": "code",
   "execution_count": 105,
   "id": "7a5dd8ba",
   "metadata": {},
   "outputs": [
    {
     "data": {
      "text/plain": [
       "Overall                   91\n",
       "Age                       34\n",
       "Height(in cm)            185\n",
       "Weight(in kg)             81\n",
       "Weak Foot Rating           4\n",
       "Skill Moves                4\n",
       "Pace Total                80\n",
       "Shooting Total            88\n",
       "Passing Total             83\n",
       "Dribbling Total           87\n",
       "Defending Total           39\n",
       "Physicality Total         78\n",
       "Crossing                  75\n",
       "Finishing                 92\n",
       "Heading Accuracy          90\n",
       "Short Passing             89\n",
       "Curve                     82\n",
       "Acceleration              79\n",
       "Agility                   78\n",
       "Reactions                 92\n",
       "Balance                   72\n",
       "Shot Power                87\n",
       "Jumping                   79\n",
       "Stamina                   82\n",
       "Strength                  82\n",
       "Aggression                63\n",
       "Vision                    89\n",
       "Penalties                 84\n",
       "Composure                 90\n",
       " GoalkeeperKicking         5\n",
       "Nationality           France\n",
       "Preferred Foot         Right\n",
       "Name: 1, dtype: object"
      ]
     },
     "execution_count": 105,
     "metadata": {},
     "output_type": "execute_result"
    }
   ],
   "source": [
    "X.loc[1]"
   ]
  },
  {
   "cell_type": "code",
   "execution_count": null,
   "id": "e88b778d",
   "metadata": {},
   "outputs": [],
   "source": []
  }
 ],
 "metadata": {
  "kernelspec": {
   "display_name": "Python 3 (ipykernel)",
   "language": "python",
   "name": "python3"
  },
  "language_info": {
   "codemirror_mode": {
    "name": "ipython",
    "version": 3
   },
   "file_extension": ".py",
   "mimetype": "text/x-python",
   "name": "python",
   "nbconvert_exporter": "python",
   "pygments_lexer": "ipython3",
   "version": "3.10.9"
  }
 },
 "nbformat": 4,
 "nbformat_minor": 5
}
